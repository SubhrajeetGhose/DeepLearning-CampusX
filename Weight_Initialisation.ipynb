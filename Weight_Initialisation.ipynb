{
  "nbformat": 4,
  "nbformat_minor": 0,
  "metadata": {
    "colab": {
      "provenance": [],
      "include_colab_link": true
    },
    "kernelspec": {
      "name": "python3",
      "display_name": "Python 3"
    },
    "language_info": {
      "name": "python"
    }
  },
  "cells": [
    {
      "cell_type": "markdown",
      "metadata": {
        "id": "view-in-github",
        "colab_type": "text"
      },
      "source": [
        "<a href=\"https://colab.research.google.com/github/SubhrajeetGhose/DeepLearning-CampusX/blob/main/Weight_Initialisation.ipynb\" target=\"_parent\"><img src=\"https://colab.research.google.com/assets/colab-badge.svg\" alt=\"Open In Colab\"/></a>"
      ]
    },
    {
      "cell_type": "code",
      "execution_count": null,
      "metadata": {
        "id": "cKVzInXrteyO"
      },
      "outputs": [],
      "source": [
        "import numpy as np\n",
        "import pandas as pd\n",
        "import matplotlib.pyplot as plt"
      ]
    },
    {
      "cell_type": "code",
      "source": [
        "df = pd.read_csv('/content/ushape.csv')"
      ],
      "metadata": {
        "id": "l-CtLegnti3_"
      },
      "execution_count": null,
      "outputs": []
    },
    {
      "cell_type": "code",
      "source": [
        "df.head()"
      ],
      "metadata": {
        "colab": {
          "base_uri": "https://localhost:8080/",
          "height": 206
        },
        "id": "T9P8j9Ubtt9t",
        "outputId": "69044bf6-5c68-4206-ed1e-1be86eb1ef03"
      },
      "execution_count": null,
      "outputs": [
        {
          "output_type": "execute_result",
          "data": {
            "text/plain": [
              "   3.159499363321345566e-02  9.869877579082642072e-01  \\\n",
              "0                  2.115098                 -0.046244   \n",
              "1                  0.882490                 -0.075756   \n",
              "2                 -0.055144                 -0.037332   \n",
              "3                  0.829545                 -0.539321   \n",
              "4                  2.112857                  0.662084   \n",
              "\n",
              "   0.000000000000000000e+00  \n",
              "0                       1.0  \n",
              "1                       0.0  \n",
              "2                       1.0  \n",
              "3                       1.0  \n",
              "4                       1.0  "
            ],
            "text/html": [
              "\n",
              "  <div id=\"df-53221ca8-cfd6-4d87-9508-f5c9db769f0a\" class=\"colab-df-container\">\n",
              "    <div>\n",
              "<style scoped>\n",
              "    .dataframe tbody tr th:only-of-type {\n",
              "        vertical-align: middle;\n",
              "    }\n",
              "\n",
              "    .dataframe tbody tr th {\n",
              "        vertical-align: top;\n",
              "    }\n",
              "\n",
              "    .dataframe thead th {\n",
              "        text-align: right;\n",
              "    }\n",
              "</style>\n",
              "<table border=\"1\" class=\"dataframe\">\n",
              "  <thead>\n",
              "    <tr style=\"text-align: right;\">\n",
              "      <th></th>\n",
              "      <th>3.159499363321345566e-02</th>\n",
              "      <th>9.869877579082642072e-01</th>\n",
              "      <th>0.000000000000000000e+00</th>\n",
              "    </tr>\n",
              "  </thead>\n",
              "  <tbody>\n",
              "    <tr>\n",
              "      <th>0</th>\n",
              "      <td>2.115098</td>\n",
              "      <td>-0.046244</td>\n",
              "      <td>1.0</td>\n",
              "    </tr>\n",
              "    <tr>\n",
              "      <th>1</th>\n",
              "      <td>0.882490</td>\n",
              "      <td>-0.075756</td>\n",
              "      <td>0.0</td>\n",
              "    </tr>\n",
              "    <tr>\n",
              "      <th>2</th>\n",
              "      <td>-0.055144</td>\n",
              "      <td>-0.037332</td>\n",
              "      <td>1.0</td>\n",
              "    </tr>\n",
              "    <tr>\n",
              "      <th>3</th>\n",
              "      <td>0.829545</td>\n",
              "      <td>-0.539321</td>\n",
              "      <td>1.0</td>\n",
              "    </tr>\n",
              "    <tr>\n",
              "      <th>4</th>\n",
              "      <td>2.112857</td>\n",
              "      <td>0.662084</td>\n",
              "      <td>1.0</td>\n",
              "    </tr>\n",
              "  </tbody>\n",
              "</table>\n",
              "</div>\n",
              "    <div class=\"colab-df-buttons\">\n",
              "\n",
              "  <div class=\"colab-df-container\">\n",
              "    <button class=\"colab-df-convert\" onclick=\"convertToInteractive('df-53221ca8-cfd6-4d87-9508-f5c9db769f0a')\"\n",
              "            title=\"Convert this dataframe to an interactive table.\"\n",
              "            style=\"display:none;\">\n",
              "\n",
              "  <svg xmlns=\"http://www.w3.org/2000/svg\" height=\"24px\" viewBox=\"0 -960 960 960\">\n",
              "    <path d=\"M120-120v-720h720v720H120Zm60-500h600v-160H180v160Zm220 220h160v-160H400v160Zm0 220h160v-160H400v160ZM180-400h160v-160H180v160Zm440 0h160v-160H620v160ZM180-180h160v-160H180v160Zm440 0h160v-160H620v160Z\"/>\n",
              "  </svg>\n",
              "    </button>\n",
              "\n",
              "  <style>\n",
              "    .colab-df-container {\n",
              "      display:flex;\n",
              "      gap: 12px;\n",
              "    }\n",
              "\n",
              "    .colab-df-convert {\n",
              "      background-color: #E8F0FE;\n",
              "      border: none;\n",
              "      border-radius: 50%;\n",
              "      cursor: pointer;\n",
              "      display: none;\n",
              "      fill: #1967D2;\n",
              "      height: 32px;\n",
              "      padding: 0 0 0 0;\n",
              "      width: 32px;\n",
              "    }\n",
              "\n",
              "    .colab-df-convert:hover {\n",
              "      background-color: #E2EBFA;\n",
              "      box-shadow: 0px 1px 2px rgba(60, 64, 67, 0.3), 0px 1px 3px 1px rgba(60, 64, 67, 0.15);\n",
              "      fill: #174EA6;\n",
              "    }\n",
              "\n",
              "    .colab-df-buttons div {\n",
              "      margin-bottom: 4px;\n",
              "    }\n",
              "\n",
              "    [theme=dark] .colab-df-convert {\n",
              "      background-color: #3B4455;\n",
              "      fill: #D2E3FC;\n",
              "    }\n",
              "\n",
              "    [theme=dark] .colab-df-convert:hover {\n",
              "      background-color: #434B5C;\n",
              "      box-shadow: 0px 1px 3px 1px rgba(0, 0, 0, 0.15);\n",
              "      filter: drop-shadow(0px 1px 2px rgba(0, 0, 0, 0.3));\n",
              "      fill: #FFFFFF;\n",
              "    }\n",
              "  </style>\n",
              "\n",
              "    <script>\n",
              "      const buttonEl =\n",
              "        document.querySelector('#df-53221ca8-cfd6-4d87-9508-f5c9db769f0a button.colab-df-convert');\n",
              "      buttonEl.style.display =\n",
              "        google.colab.kernel.accessAllowed ? 'block' : 'none';\n",
              "\n",
              "      async function convertToInteractive(key) {\n",
              "        const element = document.querySelector('#df-53221ca8-cfd6-4d87-9508-f5c9db769f0a');\n",
              "        const dataTable =\n",
              "          await google.colab.kernel.invokeFunction('convertToInteractive',\n",
              "                                                    [key], {});\n",
              "        if (!dataTable) return;\n",
              "\n",
              "        const docLinkHtml = 'Like what you see? Visit the ' +\n",
              "          '<a target=\"_blank\" href=https://colab.research.google.com/notebooks/data_table.ipynb>data table notebook</a>'\n",
              "          + ' to learn more about interactive tables.';\n",
              "        element.innerHTML = '';\n",
              "        dataTable['output_type'] = 'display_data';\n",
              "        await google.colab.output.renderOutput(dataTable, element);\n",
              "        const docLink = document.createElement('div');\n",
              "        docLink.innerHTML = docLinkHtml;\n",
              "        element.appendChild(docLink);\n",
              "      }\n",
              "    </script>\n",
              "  </div>\n",
              "\n",
              "\n",
              "<div id=\"df-bcebe7e6-6dd0-4ad4-820c-288389a9e6d7\">\n",
              "  <button class=\"colab-df-quickchart\" onclick=\"quickchart('df-bcebe7e6-6dd0-4ad4-820c-288389a9e6d7')\"\n",
              "            title=\"Suggest charts\"\n",
              "            style=\"display:none;\">\n",
              "\n",
              "<svg xmlns=\"http://www.w3.org/2000/svg\" height=\"24px\"viewBox=\"0 0 24 24\"\n",
              "     width=\"24px\">\n",
              "    <g>\n",
              "        <path d=\"M19 3H5c-1.1 0-2 .9-2 2v14c0 1.1.9 2 2 2h14c1.1 0 2-.9 2-2V5c0-1.1-.9-2-2-2zM9 17H7v-7h2v7zm4 0h-2V7h2v10zm4 0h-2v-4h2v4z\"/>\n",
              "    </g>\n",
              "</svg>\n",
              "  </button>\n",
              "\n",
              "<style>\n",
              "  .colab-df-quickchart {\n",
              "      --bg-color: #E8F0FE;\n",
              "      --fill-color: #1967D2;\n",
              "      --hover-bg-color: #E2EBFA;\n",
              "      --hover-fill-color: #174EA6;\n",
              "      --disabled-fill-color: #AAA;\n",
              "      --disabled-bg-color: #DDD;\n",
              "  }\n",
              "\n",
              "  [theme=dark] .colab-df-quickchart {\n",
              "      --bg-color: #3B4455;\n",
              "      --fill-color: #D2E3FC;\n",
              "      --hover-bg-color: #434B5C;\n",
              "      --hover-fill-color: #FFFFFF;\n",
              "      --disabled-bg-color: #3B4455;\n",
              "      --disabled-fill-color: #666;\n",
              "  }\n",
              "\n",
              "  .colab-df-quickchart {\n",
              "    background-color: var(--bg-color);\n",
              "    border: none;\n",
              "    border-radius: 50%;\n",
              "    cursor: pointer;\n",
              "    display: none;\n",
              "    fill: var(--fill-color);\n",
              "    height: 32px;\n",
              "    padding: 0;\n",
              "    width: 32px;\n",
              "  }\n",
              "\n",
              "  .colab-df-quickchart:hover {\n",
              "    background-color: var(--hover-bg-color);\n",
              "    box-shadow: 0 1px 2px rgba(60, 64, 67, 0.3), 0 1px 3px 1px rgba(60, 64, 67, 0.15);\n",
              "    fill: var(--button-hover-fill-color);\n",
              "  }\n",
              "\n",
              "  .colab-df-quickchart-complete:disabled,\n",
              "  .colab-df-quickchart-complete:disabled:hover {\n",
              "    background-color: var(--disabled-bg-color);\n",
              "    fill: var(--disabled-fill-color);\n",
              "    box-shadow: none;\n",
              "  }\n",
              "\n",
              "  .colab-df-spinner {\n",
              "    border: 2px solid var(--fill-color);\n",
              "    border-color: transparent;\n",
              "    border-bottom-color: var(--fill-color);\n",
              "    animation:\n",
              "      spin 1s steps(1) infinite;\n",
              "  }\n",
              "\n",
              "  @keyframes spin {\n",
              "    0% {\n",
              "      border-color: transparent;\n",
              "      border-bottom-color: var(--fill-color);\n",
              "      border-left-color: var(--fill-color);\n",
              "    }\n",
              "    20% {\n",
              "      border-color: transparent;\n",
              "      border-left-color: var(--fill-color);\n",
              "      border-top-color: var(--fill-color);\n",
              "    }\n",
              "    30% {\n",
              "      border-color: transparent;\n",
              "      border-left-color: var(--fill-color);\n",
              "      border-top-color: var(--fill-color);\n",
              "      border-right-color: var(--fill-color);\n",
              "    }\n",
              "    40% {\n",
              "      border-color: transparent;\n",
              "      border-right-color: var(--fill-color);\n",
              "      border-top-color: var(--fill-color);\n",
              "    }\n",
              "    60% {\n",
              "      border-color: transparent;\n",
              "      border-right-color: var(--fill-color);\n",
              "    }\n",
              "    80% {\n",
              "      border-color: transparent;\n",
              "      border-right-color: var(--fill-color);\n",
              "      border-bottom-color: var(--fill-color);\n",
              "    }\n",
              "    90% {\n",
              "      border-color: transparent;\n",
              "      border-bottom-color: var(--fill-color);\n",
              "    }\n",
              "  }\n",
              "</style>\n",
              "\n",
              "  <script>\n",
              "    async function quickchart(key) {\n",
              "      const quickchartButtonEl =\n",
              "        document.querySelector('#' + key + ' button');\n",
              "      quickchartButtonEl.disabled = true;  // To prevent multiple clicks.\n",
              "      quickchartButtonEl.classList.add('colab-df-spinner');\n",
              "      try {\n",
              "        const charts = await google.colab.kernel.invokeFunction(\n",
              "            'suggestCharts', [key], {});\n",
              "      } catch (error) {\n",
              "        console.error('Error during call to suggestCharts:', error);\n",
              "      }\n",
              "      quickchartButtonEl.classList.remove('colab-df-spinner');\n",
              "      quickchartButtonEl.classList.add('colab-df-quickchart-complete');\n",
              "    }\n",
              "    (() => {\n",
              "      let quickchartButtonEl =\n",
              "        document.querySelector('#df-bcebe7e6-6dd0-4ad4-820c-288389a9e6d7 button');\n",
              "      quickchartButtonEl.style.display =\n",
              "        google.colab.kernel.accessAllowed ? 'block' : 'none';\n",
              "    })();\n",
              "  </script>\n",
              "</div>\n",
              "\n",
              "    </div>\n",
              "  </div>\n"
            ],
            "application/vnd.google.colaboratory.intrinsic+json": {
              "type": "dataframe",
              "variable_name": "df",
              "summary": "{\n  \"name\": \"df\",\n  \"rows\": 99,\n  \"fields\": [\n    {\n      \"column\": \"3.159499363321345566e-02\",\n      \"properties\": {\n        \"dtype\": \"number\",\n        \"std\": 0.8943130566096507,\n        \"min\": -1.318500344394381,\n        \"max\": 2.181371683049025,\n        \"num_unique_values\": 99,\n        \"samples\": [\n          0.1273314190904385,\n          0.6417403675063451,\n          0.21862323352500593\n        ],\n        \"semantic_type\": \"\",\n        \"description\": \"\"\n      }\n    },\n    {\n      \"column\": \"9.869877579082642072e-01\",\n      \"properties\": {\n        \"dtype\": \"number\",\n        \"std\": 0.5909086142970595,\n        \"min\": -1.0357020680498332,\n        \"max\": 1.5718993127141032,\n        \"num_unique_values\": 99,\n        \"samples\": [\n          -0.3796548967118949,\n          -0.39369468370639576,\n          -0.6525211867631453\n        ],\n        \"semantic_type\": \"\",\n        \"description\": \"\"\n      }\n    },\n    {\n      \"column\": \"0.000000000000000000e+00\",\n      \"properties\": {\n        \"dtype\": \"number\",\n        \"std\": 0.5025189076296059,\n        \"min\": 0.0,\n        \"max\": 1.0,\n        \"num_unique_values\": 2,\n        \"samples\": [\n          0.0,\n          1.0\n        ],\n        \"semantic_type\": \"\",\n        \"description\": \"\"\n      }\n    }\n  ]\n}"
            }
          },
          "metadata": {},
          "execution_count": 6
        }
      ]
    },
    {
      "cell_type": "code",
      "source": [
        "df.columns=['X','Y','class']"
      ],
      "metadata": {
        "id": "jeO_khuIKzsu"
      },
      "execution_count": null,
      "outputs": []
    },
    {
      "cell_type": "code",
      "source": [
        "plt.scatter(df['X'],df['Y'],c=df['class'])"
      ],
      "metadata": {
        "colab": {
          "base_uri": "https://localhost:8080/",
          "height": 447
        },
        "id": "ZuYqGD_mtuQG",
        "outputId": "aceb2f31-9a14-4641-fb9e-c57a671108c7"
      },
      "execution_count": null,
      "outputs": [
        {
          "output_type": "execute_result",
          "data": {
            "text/plain": [
              "<matplotlib.collections.PathCollection at 0x7f6962702b30>"
            ]
          },
          "metadata": {},
          "execution_count": 21
        },
        {
          "output_type": "display_data",
          "data": {
            "text/plain": [
              "<Figure size 640x480 with 1 Axes>"
            ],
            "image/png": "[encoded data removed]"
          },
          "metadata": {}
        }
      ]
    },
    {
      "cell_type": "code",
      "source": [
        "X = df.iloc[:,0:2].values\n",
        "y = df.iloc[:,-1].values"
      ],
      "metadata": {
        "id": "nwXuHnqhtwEJ"
      },
      "execution_count": null,
      "outputs": []
    },
    {
      "cell_type": "code",
      "source": [
        "import tensorflow\n",
        "from tensorflow import keras\n",
        "from keras import Sequential\n",
        "from keras.layers import Dense"
      ],
      "metadata": {
        "id": "ylDVIM8Ltx0H"
      },
      "execution_count": null,
      "outputs": []
    },
    {
      "cell_type": "markdown",
      "source": [
        "# Glorot"
      ],
      "metadata": {
        "id": "fXU9z7gFOP1P"
      }
    },
    {
      "cell_type": "markdown",
      "source": [
        "## Updating weight manually"
      ],
      "metadata": {
        "id": "lGXrG9CtMHam"
      }
    },
    {
      "cell_type": "code",
      "source": [
        "model = Sequential()\n",
        "\n",
        "model.add(Dense(10,activation='tanh',input_dim=2))\n",
        "model.add(Dense(10,activation='tanh'))\n",
        "model.add(Dense(10,activation='tanh'))\n",
        "model.add(Dense(10,activation='tanh'))\n",
        "model.add(Dense(1,activation='sigmoid'))\n",
        "\n",
        "model.summary()"
      ],
      "metadata": {
        "colab": {
          "base_uri": "https://localhost:8080/",
          "height": 312
        },
        "id": "PKjCCWD1LC0g",
        "outputId": "2c20aa85-d083-4f7f-d5ba-23fdbcb786dc"
      },
      "execution_count": null,
      "outputs": [
        {
          "output_type": "display_data",
          "data": {
            "text/plain": [
              "\u001b[1mModel: \"sequential_2\"\u001b[0m\n"
            ],
            "text/html": [
              "<pre style=\"white-space:pre;overflow-x:auto;line-height:normal;font-family:Menlo,'DejaVu Sans Mono',consolas,'Courier New',monospace\"><span style=\"font-weight: bold\">Model: \"sequential_2\"</span>\n",
              "</pre>\n"
            ]
          },
          "metadata": {}
        },
        {
          "output_type": "display_data",
          "data": {
            "text/plain": [
              "┏━━━━━━━━━━━━━━━━━━━━━━━━━━━━━━━━━━━━━━┳━━━━━━━━━━━━━━━━━━━━━━━━━━━━━┳━━━━━━━━━━━━━━━━━┓\n",
              "┃\u001b[1m \u001b[0m\u001b[1mLayer (type)                        \u001b[0m\u001b[1m \u001b[0m┃\u001b[1m \u001b[0m\u001b[1mOutput Shape               \u001b[0m\u001b[1m \u001b[0m┃\u001b[1m \u001b[0m\u001b[1m        Param #\u001b[0m\u001b[1m \u001b[0m┃\n",
              "┡━━━━━━━━━━━━━━━━━━━━━━━━━━━━━━━━━━━━━━╇━━━━━━━━━━━━━━━━━━━━━━━━━━━━━╇━━━━━━━━━━━━━━━━━┩\n",
              "│ dense_10 (\u001b[38;5;33mDense\u001b[0m)                     │ (\u001b[38;5;45mNone\u001b[0m, \u001b[38;5;34m10\u001b[0m)                  │              \u001b[38;5;34m30\u001b[0m │\n",
              "├──────────────────────────────────────┼─────────────────────────────┼─────────────────┤\n",
              "│ dense_11 (\u001b[38;5;33mDense\u001b[0m)                     │ (\u001b[38;5;45mNone\u001b[0m, \u001b[38;5;34m10\u001b[0m)                  │             \u001b[38;5;34m110\u001b[0m │\n",
              "├──────────────────────────────────────┼─────────────────────────────┼─────────────────┤\n",
              "│ dense_12 (\u001b[38;5;33mDense\u001b[0m)                     │ (\u001b[38;5;45mNone\u001b[0m, \u001b[38;5;34m10\u001b[0m)                  │             \u001b[38;5;34m110\u001b[0m │\n",
              "├──────────────────────────────────────┼─────────────────────────────┼─────────────────┤\n",
              "│ dense_13 (\u001b[38;5;33mDense\u001b[0m)                     │ (\u001b[38;5;45mNone\u001b[0m, \u001b[38;5;34m10\u001b[0m)                  │             \u001b[38;5;34m110\u001b[0m │\n",
              "├──────────────────────────────────────┼─────────────────────────────┼─────────────────┤\n",
              "│ dense_14 (\u001b[38;5;33mDense\u001b[0m)                     │ (\u001b[38;5;45mNone\u001b[0m, \u001b[38;5;34m1\u001b[0m)                   │              \u001b[38;5;34m11\u001b[0m │\n",
              "└──────────────────────────────────────┴─────────────────────────────┴─────────────────┘\n"
            ],
            "text/html": [
              "<pre style=\"white-space:pre;overflow-x:auto;line-height:normal;font-family:Menlo,'DejaVu Sans Mono',consolas,'Courier New',monospace\">┏━━━━━━━━━━━━━━━━━━━━━━━━━━━━━━━━━━━━━━┳━━━━━━━━━━━━━━━━━━━━━━━━━━━━━┳━━━━━━━━━━━━━━━━━┓\n",
              "┃<span style=\"font-weight: bold\"> Layer (type)                         </span>┃<span style=\"font-weight: bold\"> Output Shape                </span>┃<span style=\"font-weight: bold\">         Param # </span>┃\n",
              "┡━━━━━━━━━━━━━━━━━━━━━━━━━━━━━━━━━━━━━━╇━━━━━━━━━━━━━━━━━━━━━━━━━━━━━╇━━━━━━━━━━━━━━━━━┩\n",
              "│ dense_10 (<span style=\"color: #0087ff; text-decoration-color: #0087ff\">Dense</span>)                     │ (<span style=\"color: #00d7ff; text-decoration-color: #00d7ff\">None</span>, <span style=\"color: #00af00; text-decoration-color: #00af00\">10</span>)                  │              <span style=\"color: #00af00; text-decoration-color: #00af00\">30</span> │\n",
              "├──────────────────────────────────────┼─────────────────────────────┼─────────────────┤\n",
              "│ dense_11 (<span style=\"color: #0087ff; text-decoration-color: #0087ff\">Dense</span>)                     │ (<span style=\"color: #00d7ff; text-decoration-color: #00d7ff\">None</span>, <span style=\"color: #00af00; text-decoration-color: #00af00\">10</span>)                  │             <span style=\"color: #00af00; text-decoration-color: #00af00\">110</span> │\n",
              "├──────────────────────────────────────┼─────────────────────────────┼─────────────────┤\n",
              "│ dense_12 (<span style=\"color: #0087ff; text-decoration-color: #0087ff\">Dense</span>)                     │ (<span style=\"color: #00d7ff; text-decoration-color: #00d7ff\">None</span>, <span style=\"color: #00af00; text-decoration-color: #00af00\">10</span>)                  │             <span style=\"color: #00af00; text-decoration-color: #00af00\">110</span> │\n",
              "├──────────────────────────────────────┼─────────────────────────────┼─────────────────┤\n",
              "│ dense_13 (<span style=\"color: #0087ff; text-decoration-color: #0087ff\">Dense</span>)                     │ (<span style=\"color: #00d7ff; text-decoration-color: #00d7ff\">None</span>, <span style=\"color: #00af00; text-decoration-color: #00af00\">10</span>)                  │             <span style=\"color: #00af00; text-decoration-color: #00af00\">110</span> │\n",
              "├──────────────────────────────────────┼─────────────────────────────┼─────────────────┤\n",
              "│ dense_14 (<span style=\"color: #0087ff; text-decoration-color: #0087ff\">Dense</span>)                     │ (<span style=\"color: #00d7ff; text-decoration-color: #00d7ff\">None</span>, <span style=\"color: #00af00; text-decoration-color: #00af00\">1</span>)                   │              <span style=\"color: #00af00; text-decoration-color: #00af00\">11</span> │\n",
              "└──────────────────────────────────────┴─────────────────────────────┴─────────────────┘\n",
              "</pre>\n"
            ]
          },
          "metadata": {}
        },
        {
          "output_type": "display_data",
          "data": {
            "text/plain": [
              "\u001b[1m Total params: \u001b[0m\u001b[38;5;34m371\u001b[0m (1.45 KB)\n"
            ],
            "text/html": [
              "<pre style=\"white-space:pre;overflow-x:auto;line-height:normal;font-family:Menlo,'DejaVu Sans Mono',consolas,'Courier New',monospace\"><span style=\"font-weight: bold\"> Total params: </span><span style=\"color: #00af00; text-decoration-color: #00af00\">371</span> (1.45 KB)\n",
              "</pre>\n"
            ]
          },
          "metadata": {}
        },
        {
          "output_type": "display_data",
          "data": {
            "text/plain": [
              "\u001b[1m Trainable params: \u001b[0m\u001b[38;5;34m371\u001b[0m (1.45 KB)\n"
            ],
            "text/html": [
              "<pre style=\"white-space:pre;overflow-x:auto;line-height:normal;font-family:Menlo,'DejaVu Sans Mono',consolas,'Courier New',monospace\"><span style=\"font-weight: bold\"> Trainable params: </span><span style=\"color: #00af00; text-decoration-color: #00af00\">371</span> (1.45 KB)\n",
              "</pre>\n"
            ]
          },
          "metadata": {}
        },
        {
          "output_type": "display_data",
          "data": {
            "text/plain": [
              "\u001b[1m Non-trainable params: \u001b[0m\u001b[38;5;34m0\u001b[0m (0.00 B)\n"
            ],
            "text/html": [
              "<pre style=\"white-space:pre;overflow-x:auto;line-height:normal;font-family:Menlo,'DejaVu Sans Mono',consolas,'Courier New',monospace\"><span style=\"font-weight: bold\"> Non-trainable params: </span><span style=\"color: #00af00; text-decoration-color: #00af00\">0</span> (0.00 B)\n",
              "</pre>\n"
            ]
          },
          "metadata": {}
        }
      ]
    },
    {
      "cell_type": "code",
      "source": [
        "model.get_weights()"
      ],
      "metadata": {
        "colab": {
          "base_uri": "https://localhost:8080/"
        },
        "id": "Rv4acS3jLC3T",
        "outputId": "ce5912da-a3db-453d-b912-fe5d479e194f"
      },
      "execution_count": null,
      "outputs": [
        {
          "output_type": "execute_result",
          "data": {
            "text/plain": [
              "[array([[ 0.47776324, -0.04431337, -0.33347344, -0.1454454 ,  0.42309147,\n",
              "         -0.7046336 ,  0.6045062 , -0.47527128, -0.2975623 , -0.03559506],\n",
              "        [ 0.21322256,  0.01779759, -0.5547742 ,  0.49641293, -0.66258603,\n",
              "          0.35252327,  0.07829773, -0.1258778 ,  0.40614825,  0.631417  ]],\n",
              "       dtype=float32),\n",
              " array([0., 0., 0., 0., 0., 0., 0., 0., 0., 0.], dtype=float32),\n",
              " array([[ 0.06794429,  0.4128121 ,  0.23856449, -0.3364426 ,  0.51726687,\n",
              "          0.35378653,  0.13167006,  0.29550183, -0.21592614, -0.2637776 ],\n",
              "        [-0.30137813, -0.5375351 ,  0.34415573, -0.19382736,  0.12476254,\n",
              "         -0.24982604,  0.29908907, -0.23333237, -0.18458742, -0.4977535 ],\n",
              "        [-0.48714447,  0.11245012, -0.38193256, -0.3206793 ,  0.02607018,\n",
              "          0.52212024,  0.42441374, -0.28544948, -0.36823457, -0.32192194],\n",
              "        [-0.33604717, -0.25653276,  0.18791151,  0.43420845, -0.02993935,\n",
              "          0.31668317,  0.19144076,  0.49962938, -0.14747778, -0.30851054],\n",
              "        [-0.03713781, -0.3222205 ,  0.21245694, -0.07047075,  0.1968711 ,\n",
              "          0.46138477, -0.20286804,  0.288193  ,  0.2895251 , -0.04906449],\n",
              "        [-0.21954471, -0.428425  , -0.0093959 , -0.50106025,  0.1170938 ,\n",
              "         -0.27720392,  0.05924898,  0.3023998 , -0.25879714, -0.5191991 ],\n",
              "        [ 0.28512692,  0.44981778, -0.25863326, -0.08020604, -0.29947335,\n",
              "         -0.04577839,  0.48293674,  0.07170898,  0.08418399, -0.5410911 ],\n",
              "        [ 0.46585774,  0.08102036,  0.09706956, -0.14316776, -0.5472243 ,\n",
              "         -0.4829795 , -0.537734  , -0.39285773, -0.47567892,  0.06144536],\n",
              "        [ 0.16843599, -0.3781168 ,  0.45637524, -0.04186285, -0.1411874 ,\n",
              "          0.20484126,  0.1978262 ,  0.04677111,  0.14175767, -0.52595484],\n",
              "        [-0.15621471, -0.43409327,  0.45878768,  0.36416054, -0.32703406,\n",
              "          0.29511333, -0.4424429 ,  0.46957207,  0.15479064, -0.04578936]],\n",
              "       dtype=float32),\n",
              " array([0., 0., 0., 0., 0., 0., 0., 0., 0., 0.], dtype=float32),\n",
              " array([[ 0.3943156 , -0.1540437 , -0.5067836 ,  0.15971744, -0.0286665 ,\n",
              "          0.4612639 , -0.3170163 , -0.05193964, -0.30128646, -0.15148994],\n",
              "        [ 0.5319599 , -0.07740977,  0.20384783, -0.53277725,  0.30645794,\n",
              "          0.09871274,  0.41491717, -0.25995713, -0.3555137 ,  0.19972324],\n",
              "        [-0.26059818, -0.3789335 , -0.00395942,  0.02032864,  0.13085818,\n",
              "          0.33379287, -0.39829707, -0.0486995 ,  0.33745646, -0.3159545 ],\n",
              "        [-0.06537682,  0.42154843,  0.54623246,  0.25874674, -0.2349211 ,\n",
              "         -0.53786063,  0.48627448, -0.44455212,  0.00576293,  0.2584942 ],\n",
              "        [-0.44821262,  0.2439658 , -0.2654853 , -0.40516478,  0.0550549 ,\n",
              "          0.22908282,  0.36561477, -0.39116168,  0.23074567, -0.50690424],\n",
              "        [ 0.29819298, -0.22225255,  0.4247778 ,  0.25118625,  0.01538759,\n",
              "          0.08009815,  0.378201  , -0.00929809, -0.4266899 ,  0.4409008 ],\n",
              "        [ 0.33260155, -0.3513656 , -0.09200197, -0.16129053, -0.37779462,\n",
              "          0.5027182 ,  0.14703262, -0.1892674 ,  0.33826536, -0.42367268],\n",
              "        [-0.21213636,  0.27111584,  0.3656482 ,  0.35808015,  0.1092695 ,\n",
              "          0.0128926 ,  0.46306717,  0.49990475,  0.29687142, -0.4778024 ],\n",
              "        [-0.39257538, -0.15501097,  0.24597728,  0.17369539,  0.01025146,\n",
              "         -0.2869699 , -0.5189828 , -0.04487813, -0.00090301,  0.23817718],\n",
              "        [ 0.08933771, -0.39538693,  0.52638435, -0.16186666, -0.39955997,\n",
              "          0.23679489,  0.3600896 ,  0.43746215,  0.24666   ,  0.47850978]],\n",
              "       dtype=float32),\n",
              " array([0., 0., 0., 0., 0., 0., 0., 0., 0., 0.], dtype=float32),\n",
              " array([[-0.411676  ,  0.17369843,  0.0747391 ,  0.1911729 , -0.01173925,\n",
              "         -0.5455661 , -0.3522963 ,  0.01991415,  0.3266098 ,  0.22710127],\n",
              "        [-0.3242993 ,  0.10205638,  0.26406646, -0.2410754 ,  0.39364594,\n",
              "          0.4855777 ,  0.37118977, -0.10530907,  0.3495469 , -0.07167059],\n",
              "        [-0.15935966,  0.05908304, -0.03132582, -0.08169001,  0.01631129,\n",
              "          0.38023633,  0.45362353,  0.34373462, -0.12226674,  0.10476375],\n",
              "        [ 0.02799243, -0.16668195, -0.54557234, -0.35973012,  0.0818646 ,\n",
              "         -0.29191968, -0.12021601,  0.30674875,  0.17328024, -0.43825874],\n",
              "        [ 0.40429342, -0.255332  , -0.3341577 ,  0.19133091, -0.20509508,\n",
              "          0.5346128 ,  0.34537137,  0.10817558,  0.26674587, -0.40269643],\n",
              "        [ 0.49045277,  0.25036538, -0.46572214, -0.45387384, -0.46398064,\n",
              "          0.38658315, -0.45239365, -0.05113834,  0.08878195,  0.2516749 ],\n",
              "        [ 0.5297551 , -0.26432958,  0.06790513,  0.27658665,  0.07581609,\n",
              "         -0.16237256,  0.28774297,  0.22121167,  0.1141758 ,  0.42349726],\n",
              "        [-0.02852315, -0.12393475,  0.41192085, -0.36652443, -0.1070075 ,\n",
              "          0.27659094,  0.5237093 ,  0.45186853, -0.5247438 ,  0.51108634],\n",
              "        [-0.25338104, -0.33113766, -0.05269483,  0.3029266 ,  0.08968341,\n",
              "          0.04560578, -0.29849082, -0.44043708,  0.1596126 ,  0.36936772],\n",
              "        [ 0.28018665, -0.30331093, -0.27788717, -0.34620517, -0.0822475 ,\n",
              "          0.2710231 ,  0.3043508 , -0.29768184, -0.16576064, -0.52899534]],\n",
              "       dtype=float32),\n",
              " array([0., 0., 0., 0., 0., 0., 0., 0., 0., 0.], dtype=float32),\n",
              " array([[-0.43935528],\n",
              "        [ 0.21628743],\n",
              "        [-0.18753594],\n",
              "        [-0.71222055],\n",
              "        [-0.18288028],\n",
              "        [ 0.5289183 ],\n",
              "        [-0.29540625],\n",
              "        [ 0.38390762],\n",
              "        [ 0.29255182],\n",
              "        [ 0.1477021 ]], dtype=float32),\n",
              " array([0.], dtype=float32)]"
            ]
          },
          "metadata": {},
          "execution_count": 25
        }
      ]
    },
    {
      "cell_type": "code",
      "source": [
        "initial_weights = model.get_weights()"
      ],
      "metadata": {
        "id": "F5z3Ci6KLC53"
      },
      "execution_count": null,
      "outputs": []
    },
    {
      "cell_type": "code",
      "source": [
        "initial_weights[0] = np.random.randn(2,10)*np.sqrt(1/2)\n",
        "initial_weights[1] = np.zeros(model.get_weights()[1].shape)\n",
        "initial_weights[2] = np.random.randn(10,10)*np.sqrt(1/10)\n",
        "initial_weights[3] = np.zeros(model.get_weights()[3].shape)\n",
        "initial_weights[4] = np.random.randn(10,10)*np.sqrt(1/10)\n",
        "initial_weights[5] = np.zeros(model.get_weights()[5].shape)\n",
        "initial_weights[6] = np.random.randn(10,10)*np.sqrt(1/10)\n",
        "initial_weights[7] = np.zeros(model.get_weights()[7].shape)\n",
        "initial_weights[8] = np.random.randn(10,1)*np.sqrt(1/10)\n",
        "initial_weights[9] = np.zeros(model.get_weights()[9].shape)"
      ],
      "metadata": {
        "id": "uE0aSC4PLC8N"
      },
      "execution_count": null,
      "outputs": []
    },
    {
      "cell_type": "code",
      "source": [
        "model.set_weights(initial_weights)"
      ],
      "metadata": {
        "id": "lpnc7VBPLC-b"
      },
      "execution_count": null,
      "outputs": []
    },
    {
      "cell_type": "code",
      "source": [
        "model.get_weights()"
      ],
      "metadata": {
        "colab": {
          "base_uri": "https://localhost:8080/"
        },
        "id": "VrHfBTLnLDBH",
        "outputId": "31e1be9d-8fb7-4785-b58c-0d91ca189006"
      },
      "execution_count": null,
      "outputs": [
        {
          "output_type": "execute_result",
          "data": {
            "text/plain": [
              "[array([[ 0.27765933, -0.3516433 , -1.2041225 , -0.92620426,  0.19065145,\n",
              "         -0.06017247, -0.55693936, -0.50806177, -1.5713787 ,  0.13835308],\n",
              "        [ 0.19864449,  0.35463452, -0.892662  ,  0.0481345 , -0.32261536,\n",
              "          0.7328935 , -0.59587204,  0.3484513 , -0.79878265,  1.2011876 ]],\n",
              "       dtype=float32),\n",
              " array([0., 0., 0., 0., 0., 0., 0., 0., 0., 0.], dtype=float32),\n",
              " array([[ 0.2900543 , -0.2916862 ,  0.3408131 , -0.16595371,  0.24580951,\n",
              "          0.2639439 ,  0.11265292,  0.24828377,  0.05970301,  0.13855591],\n",
              "        [-0.31135267, -0.1348619 , -0.38579497,  0.08666841,  0.03219823,\n",
              "          0.55607444, -0.01545778, -0.34815776,  0.2401775 ,  0.19489475],\n",
              "        [ 0.03121522,  0.25175947,  0.44072303,  0.16699198,  0.02795804,\n",
              "          0.03603083, -0.32314217, -0.29349265, -0.17980842, -0.16929747],\n",
              "        [ 0.1797967 ,  0.29345182, -0.01366302,  0.5410354 ,  0.12423382,\n",
              "         -0.3697771 ,  0.03090438, -0.59257627, -0.594089  ,  0.0800777 ],\n",
              "        [ 0.12851849, -0.25497866, -0.80210716, -0.49108303, -0.06102939,\n",
              "         -0.23576827,  0.23461533,  0.11491925, -0.09018684,  0.2479635 ],\n",
              "        [-0.29093817,  0.43904677,  0.17814109,  0.02294682,  0.25840825,\n",
              "         -0.3070034 ,  0.01534813, -0.2966945 ,  0.62180007,  0.2030027 ],\n",
              "        [-0.02620139, -0.02307675, -0.14047566, -0.23350726, -0.32298756,\n",
              "          0.27891928, -0.20885135, -0.17422315, -0.14980616,  0.16237734],\n",
              "        [-0.16865161, -0.13228148,  0.45370117, -0.41838664,  0.46334082,\n",
              "         -0.15147997,  0.04112799, -0.10961164, -0.19193012,  1.0037961 ],\n",
              "        [ 0.51679796, -0.08251942,  0.42378056,  0.20135456,  0.2538829 ,\n",
              "          0.22102903, -0.27450436, -0.6584991 , -0.3134012 ,  0.3430649 ],\n",
              "        [-0.4538551 ,  0.3227263 ,  0.22137262,  0.4555621 , -0.50813705,\n",
              "         -0.5915059 , -0.54702127,  0.1953668 ,  0.19688435,  0.08145549]],\n",
              "       dtype=float32),\n",
              " array([0., 0., 0., 0., 0., 0., 0., 0., 0., 0.], dtype=float32),\n",
              " array([[-0.10123713, -0.36328778,  0.08012728,  0.305052  ,  0.27747577,\n",
              "          0.0836172 ,  0.5312486 ,  0.09504732, -0.44646907, -0.59920937],\n",
              "        [-0.10808285,  0.03225053, -0.30002195, -0.4875012 ,  0.42445257,\n",
              "          0.39119768,  0.1813182 , -0.14170498,  0.20895486, -0.7442051 ],\n",
              "        [-0.7276083 ,  0.3069888 , -0.12306195,  0.07056678,  0.01603211,\n",
              "          0.05060203, -0.33042645, -0.22555962, -0.5210522 ,  0.07871301],\n",
              "        [ 0.5281317 ,  0.6430673 , -0.24228631,  0.21038485,  0.3998752 ,\n",
              "         -0.5923838 ,  0.078762  , -0.2365948 , -0.2200581 , -0.13115864],\n",
              "        [ 0.13904753, -0.44590542,  0.0076639 ,  0.20303875,  0.43823403,\n",
              "          0.10843061,  0.35690793,  0.2615768 ,  0.41018096,  0.1814032 ],\n",
              "        [ 0.09073066,  0.23234849,  0.02678117, -0.41593823, -0.35591003,\n",
              "          0.05467372, -0.05102475,  0.337494  , -0.0129987 ,  0.4338715 ],\n",
              "        [ 0.2774134 , -0.0189883 , -0.02594794,  0.5589146 ,  0.27329856,\n",
              "          0.19744898, -0.6396217 ,  0.12874164,  0.19516785,  0.13304901],\n",
              "        [ 0.04048585, -0.70396966, -0.14803188,  0.10808518, -0.13032785,\n",
              "         -0.06371   ,  0.2793667 ,  0.2282478 ,  0.09109508,  0.34316054],\n",
              "        [-0.2885478 , -0.06591893, -0.20321612, -0.20305349, -0.42530107,\n",
              "         -0.09056316,  0.0298397 , -0.18441266, -0.15436868, -0.38731855],\n",
              "        [ 0.09877008,  0.15777196,  0.28474608, -0.04212352,  0.22859739,\n",
              "          0.03642993,  0.01991017,  0.25879487, -0.2526394 , -0.08016641]],\n",
              "       dtype=float32),\n",
              " array([0., 0., 0., 0., 0., 0., 0., 0., 0., 0.], dtype=float32),\n",
              " array([[-7.57068396e-02, -6.98964000e-02, -1.70265302e-01,\n",
              "          6.32254630e-02,  9.23451111e-02,  5.18575072e-01,\n",
              "          3.72585684e-01,  2.15664327e-01,  3.66123497e-01,\n",
              "         -1.77765079e-02],\n",
              "        [ 1.82511240e-01,  4.08095747e-01, -8.98420513e-02,\n",
              "          1.42650858e-01,  3.11810464e-01, -7.26697326e-01,\n",
              "          8.85938704e-01,  3.25177193e-01,  2.77551055e-01,\n",
              "          3.12534243e-01],\n",
              "        [ 1.20203435e-01, -2.37316206e-01,  1.70077845e-01,\n",
              "         -4.21353698e-01, -2.91937500e-01, -2.35596031e-01,\n",
              "          4.44164306e-01, -3.41145903e-01, -2.77771056e-01,\n",
              "          6.81706443e-02],\n",
              "        [ 2.38601089e-01, -1.72607098e-02, -1.67200208e-01,\n",
              "         -1.69935524e-01, -3.62451732e-01, -1.64411277e-01,\n",
              "          8.98116603e-02, -4.65130657e-01,  2.08646566e-01,\n",
              "          7.63081163e-02],\n",
              "        [-3.61059308e-01,  4.87953275e-01,  2.56991144e-02,\n",
              "         -3.41121554e-01, -3.11701726e-02, -5.22981584e-03,\n",
              "          3.12706888e-01, -5.69678426e-01, -4.07470882e-01,\n",
              "          9.81961787e-01],\n",
              "        [-4.66687888e-01, -4.18020844e-01, -1.59748256e-01,\n",
              "          6.57118708e-02, -7.46535137e-02,  5.29400595e-02,\n",
              "         -9.97857191e-03,  2.27010205e-01,  4.15335655e-01,\n",
              "          2.78201878e-01],\n",
              "        [ 5.97482979e-01,  1.24892525e-01, -5.15966639e-02,\n",
              "         -3.77817243e-01, -5.73651373e-01,  1.38382345e-01,\n",
              "         -4.44758823e-03, -5.21191716e-01,  5.98657727e-01,\n",
              "          2.59123385e-01],\n",
              "        [ 3.64903927e-01,  3.31899941e-01, -1.17573388e-01,\n",
              "         -1.95754588e-01,  4.67244327e-01,  3.97660211e-03,\n",
              "         -3.67048144e-01, -3.83177340e-01, -2.50784725e-01,\n",
              "          4.02416587e-01],\n",
              "        [-4.58477527e-01,  1.66162588e-02,  6.81289136e-02,\n",
              "         -2.29014680e-01,  3.74051422e-01,  1.14068821e-01,\n",
              "          3.12000424e-01,  7.78085378e-04,  1.49804741e-01,\n",
              "          1.08068869e-01],\n",
              "        [ 3.92413825e-01, -2.35714391e-01, -8.54554102e-02,\n",
              "         -1.83559984e-01,  3.21259588e-01, -5.04304230e-01,\n",
              "         -3.85729134e-01,  4.15133595e-01, -2.05243174e-02,\n",
              "         -5.93124032e-01]], dtype=float32),\n",
              " array([0., 0., 0., 0., 0., 0., 0., 0., 0., 0.], dtype=float32),\n",
              " array([[ 0.42528212],\n",
              "        [ 0.19839892],\n",
              "        [-0.09392969],\n",
              "        [-0.24568741],\n",
              "        [ 0.4548588 ],\n",
              "        [ 0.24115919],\n",
              "        [-0.08055224],\n",
              "        [ 0.21891527],\n",
              "        [ 0.03915136],\n",
              "        [ 0.4085611 ]], dtype=float32),\n",
              " array([0.], dtype=float32)]"
            ]
          },
          "metadata": {},
          "execution_count": 29
        }
      ]
    },
    {
      "cell_type": "code",
      "source": [
        "model.compile(loss='binary_crossentropy',optimizer='adam',metrics=['accuracy'])"
      ],
      "metadata": {
        "id": "fLzLGIUZL6sU"
      },
      "execution_count": null,
      "outputs": []
    },
    {
      "cell_type": "code",
      "source": [
        "history = model.fit(X,y,epochs=100,validation_split=0.2)"
      ],
      "metadata": {
        "colab": {
          "base_uri": "https://localhost:8080/"
        },
        "id": "EeeGMXEyL6vn",
        "outputId": "dfe7b934-4f35-454e-9c9c-8b51bd7de645"
      },
      "execution_count": null,
      "outputs": [
        {
          "output_type": "stream",
          "name": "stdout",
          "text": [
            "Epoch 1/100\n",
            "\u001b[1m3/3\u001b[0m \u001b[32m━━━━━━━━━━━━━━━━━━━━\u001b[0m\u001b[37m\u001b[0m \u001b[1m3s\u001b[0m 108ms/step - accuracy: 0.3710 - loss: 0.8127 - val_accuracy: 0.1500 - val_loss: 0.8682\n",
            "Epoch 2/100\n",
            "\u001b[1m3/3\u001b[0m \u001b[32m━━━━━━━━━━━━━━━━━━━━\u001b[0m\u001b[37m\u001b[0m \u001b[1m0s\u001b[0m 20ms/step - accuracy: 0.3906 - loss: 0.7887 - val_accuracy: 0.1500 - val_loss: 0.8506\n",
            "Epoch 3/100\n",
            "\u001b[1m3/3\u001b[0m \u001b[32m━━━━━━━━━━━━━━━━━━━━\u001b[0m\u001b[37m\u001b[0m \u001b[1m0s\u001b[0m 17ms/step - accuracy: 0.3803 - loss: 0.7758 - val_accuracy: 0.2000 - val_loss: 0.8337\n",
            "Epoch 4/100\n",
            "\u001b[1m3/3\u001b[0m \u001b[32m━━━━━━━━━━━━━━━━━━━━\u001b[0m\u001b[37m\u001b[0m \u001b[1m0s\u001b[0m 17ms/step - accuracy: 0.3398 - loss: 0.7798 - val_accuracy: 0.2000 - val_loss: 0.8174\n",
            "Epoch 5/100\n",
            "\u001b[1m3/3\u001b[0m \u001b[32m━━━━━━━━━━━━━━━━━━━━\u001b[0m\u001b[37m\u001b[0m \u001b[1m0s\u001b[0m 22ms/step - accuracy: 0.4086 - loss: 0.7497 - val_accuracy: 0.2000 - val_loss: 0.8022\n",
            "Epoch 6/100\n",
            "\u001b[1m3/3\u001b[0m \u001b[32m━━━━━━━━━━━━━━━━━━━━\u001b[0m\u001b[37m\u001b[0m \u001b[1m0s\u001b[0m 19ms/step - accuracy: 0.3696 - loss: 0.7475 - val_accuracy: 0.2500 - val_loss: 0.7873\n",
            "Epoch 7/100\n",
            "\u001b[1m3/3\u001b[0m \u001b[32m━━━━━━━━━━━━━━━━━━━━\u001b[0m\u001b[37m\u001b[0m \u001b[1m0s\u001b[0m 18ms/step - accuracy: 0.3852 - loss: 0.7315 - val_accuracy: 0.3000 - val_loss: 0.7730\n",
            "Epoch 8/100\n",
            "\u001b[1m3/3\u001b[0m \u001b[32m━━━━━━━━━━━━━━━━━━━━\u001b[0m\u001b[37m\u001b[0m \u001b[1m0s\u001b[0m 17ms/step - accuracy: 0.4198 - loss: 0.7264 - val_accuracy: 0.3000 - val_loss: 0.7593\n",
            "Epoch 9/100\n",
            "\u001b[1m3/3\u001b[0m \u001b[32m━━━━━━━━━━━━━━━━━━━━\u001b[0m\u001b[37m\u001b[0m \u001b[1m0s\u001b[0m 17ms/step - accuracy: 0.4183 - loss: 0.7237 - val_accuracy: 0.3000 - val_loss: 0.7464\n",
            "Epoch 10/100\n",
            "\u001b[1m3/3\u001b[0m \u001b[32m━━━━━━━━━━━━━━━━━━━━\u001b[0m\u001b[37m\u001b[0m \u001b[1m0s\u001b[0m 17ms/step - accuracy: 0.4105 - loss: 0.7132 - val_accuracy: 0.3500 - val_loss: 0.7347\n",
            "Epoch 11/100\n",
            "\u001b[1m3/3\u001b[0m \u001b[32m━━━━━━━━━━━━━━━━━━━━\u001b[0m\u001b[37m\u001b[0m \u001b[1m0s\u001b[0m 16ms/step - accuracy: 0.4686 - loss: 0.6968 - val_accuracy: 0.4000 - val_loss: 0.7242\n",
            "Epoch 12/100\n",
            "\u001b[1m3/3\u001b[0m \u001b[32m━━━━━━━━━━━━━━━━━━━━\u001b[0m\u001b[37m\u001b[0m \u001b[1m0s\u001b[0m 17ms/step - accuracy: 0.4710 - loss: 0.6933 - val_accuracy: 0.4000 - val_loss: 0.7132\n",
            "Epoch 13/100\n",
            "\u001b[1m3/3\u001b[0m \u001b[32m━━━━━━━━━━━━━━━━━━━━\u001b[0m\u001b[37m\u001b[0m \u001b[1m0s\u001b[0m 17ms/step - accuracy: 0.5724 - loss: 0.6863 - val_accuracy: 0.5500 - val_loss: 0.7021\n",
            "Epoch 14/100\n",
            "\u001b[1m3/3\u001b[0m \u001b[32m━━━━━━━━━━━━━━━━━━━━\u001b[0m\u001b[37m\u001b[0m \u001b[1m0s\u001b[0m 22ms/step - accuracy: 0.6226 - loss: 0.6782 - val_accuracy: 0.5500 - val_loss: 0.6914\n",
            "Epoch 15/100\n",
            "\u001b[1m3/3\u001b[0m \u001b[32m━━━━━━━━━━━━━━━━━━━━\u001b[0m\u001b[37m\u001b[0m \u001b[1m0s\u001b[0m 36ms/step - accuracy: 0.6792 - loss: 0.6710 - val_accuracy: 0.7000 - val_loss: 0.6804\n",
            "Epoch 16/100\n",
            "\u001b[1m3/3\u001b[0m \u001b[32m━━━━━━━━━━━━━━━━━━━━\u001b[0m\u001b[37m\u001b[0m \u001b[1m0s\u001b[0m 18ms/step - accuracy: 0.7421 - loss: 0.6650 - val_accuracy: 0.7000 - val_loss: 0.6697\n",
            "Epoch 17/100\n",
            "\u001b[1m3/3\u001b[0m \u001b[32m━━━━━━━━━━━━━━━━━━━━\u001b[0m\u001b[37m\u001b[0m \u001b[1m0s\u001b[0m 18ms/step - accuracy: 0.7972 - loss: 0.6588 - val_accuracy: 0.7500 - val_loss: 0.6588\n",
            "Epoch 18/100\n",
            "\u001b[1m3/3\u001b[0m \u001b[32m━━━━━━━━━━━━━━━━━━━━\u001b[0m\u001b[37m\u001b[0m \u001b[1m0s\u001b[0m 18ms/step - accuracy: 0.8387 - loss: 0.6496 - val_accuracy: 0.7500 - val_loss: 0.6482\n",
            "Epoch 19/100\n",
            "\u001b[1m3/3\u001b[0m \u001b[32m━━━━━━━━━━━━━━━━━━━━\u001b[0m\u001b[37m\u001b[0m \u001b[1m0s\u001b[0m 17ms/step - accuracy: 0.7962 - loss: 0.6400 - val_accuracy: 0.8000 - val_loss: 0.6370\n",
            "Epoch 20/100\n",
            "\u001b[1m3/3\u001b[0m \u001b[32m━━━━━━━━━━━━━━━━━━━━\u001b[0m\u001b[37m\u001b[0m \u001b[1m0s\u001b[0m 17ms/step - accuracy: 0.7665 - loss: 0.6377 - val_accuracy: 0.8000 - val_loss: 0.6255\n",
            "Epoch 21/100\n",
            "\u001b[1m3/3\u001b[0m \u001b[32m━━━━━━━━━━━━━━━━━━━━\u001b[0m\u001b[37m\u001b[0m \u001b[1m0s\u001b[0m 18ms/step - accuracy: 0.7250 - loss: 0.6317 - val_accuracy: 0.8000 - val_loss: 0.6140\n",
            "Epoch 22/100\n",
            "\u001b[1m3/3\u001b[0m \u001b[32m━━━━━━━━━━━━━━━━━━━━\u001b[0m\u001b[37m\u001b[0m \u001b[1m0s\u001b[0m 17ms/step - accuracy: 0.7328 - loss: 0.6244 - val_accuracy: 0.8500 - val_loss: 0.6019\n",
            "Epoch 23/100\n",
            "\u001b[1m3/3\u001b[0m \u001b[32m━━━━━━━━━━━━━━━━━━━━\u001b[0m\u001b[37m\u001b[0m \u001b[1m0s\u001b[0m 17ms/step - accuracy: 0.7367 - loss: 0.6112 - val_accuracy: 0.8500 - val_loss: 0.5897\n",
            "Epoch 24/100\n",
            "\u001b[1m3/3\u001b[0m \u001b[32m━━━━━━━━━━━━━━━━━━━━\u001b[0m\u001b[37m\u001b[0m \u001b[1m0s\u001b[0m 18ms/step - accuracy: 0.7806 - loss: 0.6002 - val_accuracy: 0.8500 - val_loss: 0.5768\n",
            "Epoch 25/100\n",
            "\u001b[1m3/3\u001b[0m \u001b[32m━━━━━━━━━━━━━━━━━━━━\u001b[0m\u001b[37m\u001b[0m \u001b[1m0s\u001b[0m 21ms/step - accuracy: 0.7791 - loss: 0.5954 - val_accuracy: 0.8500 - val_loss: 0.5635\n",
            "Epoch 26/100\n",
            "\u001b[1m3/3\u001b[0m \u001b[32m━━━━━━━━━━━━━━━━━━━━\u001b[0m\u001b[37m\u001b[0m \u001b[1m0s\u001b[0m 17ms/step - accuracy: 0.8323 - loss: 0.5827 - val_accuracy: 0.8500 - val_loss: 0.5498\n",
            "Epoch 27/100\n",
            "\u001b[1m3/3\u001b[0m \u001b[32m━━━━━━━━━━━━━━━━━━━━\u001b[0m\u001b[37m\u001b[0m \u001b[1m0s\u001b[0m 18ms/step - accuracy: 0.7620 - loss: 0.5692 - val_accuracy: 0.8500 - val_loss: 0.5363\n",
            "Epoch 28/100\n",
            "\u001b[1m3/3\u001b[0m \u001b[32m━━━━━━━━━━━━━━━━━━━━\u001b[0m\u001b[37m\u001b[0m \u001b[1m0s\u001b[0m 17ms/step - accuracy: 0.7762 - loss: 0.5705 - val_accuracy: 0.8500 - val_loss: 0.5221\n",
            "Epoch 29/100\n",
            "\u001b[1m3/3\u001b[0m \u001b[32m━━━━━━━━━━━━━━━━━━━━\u001b[0m\u001b[37m\u001b[0m \u001b[1m0s\u001b[0m 23ms/step - accuracy: 0.8035 - loss: 0.5573 - val_accuracy: 0.9000 - val_loss: 0.5065\n",
            "Epoch 30/100\n",
            "\u001b[1m3/3\u001b[0m \u001b[32m━━━━━━━━━━━━━━━━━━━━\u001b[0m\u001b[37m\u001b[0m \u001b[1m0s\u001b[0m 19ms/step - accuracy: 0.8269 - loss: 0.5302 - val_accuracy: 0.9000 - val_loss: 0.4911\n",
            "Epoch 31/100\n",
            "\u001b[1m3/3\u001b[0m \u001b[32m━━━━━━━━━━━━━━━━━━━━\u001b[0m\u001b[37m\u001b[0m \u001b[1m0s\u001b[0m 18ms/step - accuracy: 0.8528 - loss: 0.5205 - val_accuracy: 0.9000 - val_loss: 0.4771\n",
            "Epoch 32/100\n",
            "\u001b[1m3/3\u001b[0m \u001b[32m━━━━━━━━━━━━━━━━━━━━\u001b[0m\u001b[37m\u001b[0m \u001b[1m0s\u001b[0m 18ms/step - accuracy: 0.8552 - loss: 0.5126 - val_accuracy: 0.9000 - val_loss: 0.4631\n",
            "Epoch 33/100\n",
            "\u001b[1m3/3\u001b[0m \u001b[32m━━━━━━━━━━━━━━━━━━━━\u001b[0m\u001b[37m\u001b[0m \u001b[1m0s\u001b[0m 18ms/step - accuracy: 0.8513 - loss: 0.4887 - val_accuracy: 0.8500 - val_loss: 0.4492\n",
            "Epoch 34/100\n",
            "\u001b[1m3/3\u001b[0m \u001b[32m━━━━━━━━━━━━━━━━━━━━\u001b[0m\u001b[37m\u001b[0m \u001b[1m0s\u001b[0m 20ms/step - accuracy: 0.8513 - loss: 0.4848 - val_accuracy: 0.8500 - val_loss: 0.4357\n",
            "Epoch 35/100\n",
            "\u001b[1m3/3\u001b[0m \u001b[32m━━━━━━━━━━━━━━━━━━━━\u001b[0m\u001b[37m\u001b[0m \u001b[1m0s\u001b[0m 17ms/step - accuracy: 0.8537 - loss: 0.4787 - val_accuracy: 0.8500 - val_loss: 0.4222\n",
            "Epoch 36/100\n",
            "\u001b[1m3/3\u001b[0m \u001b[32m━━━━━━━━━━━━━━━━━━━━\u001b[0m\u001b[37m\u001b[0m \u001b[1m0s\u001b[0m 18ms/step - accuracy: 0.8381 - loss: 0.4862 - val_accuracy: 0.8500 - val_loss: 0.4095\n",
            "Epoch 37/100\n",
            "\u001b[1m3/3\u001b[0m \u001b[32m━━━━━━━━━━━━━━━━━━━━\u001b[0m\u001b[37m\u001b[0m \u001b[1m0s\u001b[0m 17ms/step - accuracy: 0.8459 - loss: 0.4662 - val_accuracy: 0.8500 - val_loss: 0.3970\n",
            "Epoch 38/100\n",
            "\u001b[1m3/3\u001b[0m \u001b[32m━━━━━━━━━━━━━━━━━━━━\u001b[0m\u001b[37m\u001b[0m \u001b[1m0s\u001b[0m 24ms/step - accuracy: 0.8576 - loss: 0.4518 - val_accuracy: 0.8500 - val_loss: 0.3863\n",
            "Epoch 39/100\n",
            "\u001b[1m3/3\u001b[0m \u001b[32m━━━━━━━━━━━━━━━━━━━━\u001b[0m\u001b[37m\u001b[0m \u001b[1m0s\u001b[0m 21ms/step - accuracy: 0.8381 - loss: 0.4525 - val_accuracy: 0.8500 - val_loss: 0.3763\n",
            "Epoch 40/100\n",
            "\u001b[1m3/3\u001b[0m \u001b[32m━━━━━━━━━━━━━━━━━━━━\u001b[0m\u001b[37m\u001b[0m \u001b[1m0s\u001b[0m 18ms/step - accuracy: 0.8459 - loss: 0.4479 - val_accuracy: 0.8500 - val_loss: 0.3660\n",
            "Epoch 41/100\n",
            "\u001b[1m3/3\u001b[0m \u001b[32m━━━━━━━━━━━━━━━━━━━━\u001b[0m\u001b[37m\u001b[0m \u001b[1m0s\u001b[0m 18ms/step - accuracy: 0.8655 - loss: 0.4326 - val_accuracy: 0.8500 - val_loss: 0.3563\n",
            "Epoch 42/100\n",
            "\u001b[1m3/3\u001b[0m \u001b[32m━━━━━━━━━━━━━━━━━━━━\u001b[0m\u001b[37m\u001b[0m \u001b[1m0s\u001b[0m 27ms/step - accuracy: 0.8537 - loss: 0.4238 - val_accuracy: 0.8500 - val_loss: 0.3480\n",
            "Epoch 43/100\n",
            "\u001b[1m3/3\u001b[0m \u001b[32m━━━━━━━━━━━━━━━━━━━━\u001b[0m\u001b[37m\u001b[0m \u001b[1m0s\u001b[0m 17ms/step - accuracy: 0.8264 - loss: 0.4538 - val_accuracy: 0.8500 - val_loss: 0.3407\n",
            "Epoch 44/100\n",
            "\u001b[1m3/3\u001b[0m \u001b[32m━━━━━━━━━━━━━━━━━━━━\u001b[0m\u001b[37m\u001b[0m \u001b[1m0s\u001b[0m 17ms/step - accuracy: 0.8303 - loss: 0.4476 - val_accuracy: 0.8500 - val_loss: 0.3333\n",
            "Epoch 45/100\n",
            "\u001b[1m3/3\u001b[0m \u001b[32m━━━━━━━━━━━━━━━━━━━━\u001b[0m\u001b[37m\u001b[0m \u001b[1m0s\u001b[0m 18ms/step - accuracy: 0.8655 - loss: 0.3919 - val_accuracy: 0.8500 - val_loss: 0.3263\n",
            "Epoch 46/100\n",
            "\u001b[1m3/3\u001b[0m \u001b[32m━━━━━━━━━━━━━━━━━━━━\u001b[0m\u001b[37m\u001b[0m \u001b[1m0s\u001b[0m 19ms/step - accuracy: 0.8459 - loss: 0.4306 - val_accuracy: 0.8500 - val_loss: 0.3203\n",
            "Epoch 47/100\n",
            "\u001b[1m3/3\u001b[0m \u001b[32m━━━━━━━━━━━━━━━━━━━━\u001b[0m\u001b[37m\u001b[0m \u001b[1m0s\u001b[0m 18ms/step - accuracy: 0.8303 - loss: 0.4303 - val_accuracy: 0.8500 - val_loss: 0.3146\n",
            "Epoch 48/100\n",
            "\u001b[1m3/3\u001b[0m \u001b[32m━━━━━━━━━━━━━━━━━━━━\u001b[0m\u001b[37m\u001b[0m \u001b[1m0s\u001b[0m 19ms/step - accuracy: 0.8381 - loss: 0.4132 - val_accuracy: 0.8500 - val_loss: 0.3097\n",
            "Epoch 49/100\n",
            "\u001b[1m3/3\u001b[0m \u001b[32m━━━━━━━━━━━━━━━━━━━━\u001b[0m\u001b[37m\u001b[0m \u001b[1m0s\u001b[0m 23ms/step - accuracy: 0.8459 - loss: 0.4015 - val_accuracy: 0.8500 - val_loss: 0.3053\n",
            "Epoch 50/100\n",
            "\u001b[1m3/3\u001b[0m \u001b[32m━━━━━━━━━━━━━━━━━━━━\u001b[0m\u001b[37m\u001b[0m \u001b[1m0s\u001b[0m 22ms/step - accuracy: 0.8733 - loss: 0.3718 - val_accuracy: 0.8500 - val_loss: 0.3018\n",
            "Epoch 51/100\n",
            "\u001b[1m3/3\u001b[0m \u001b[32m━━━━━━━━━━━━━━━━━━━━\u001b[0m\u001b[37m\u001b[0m \u001b[1m0s\u001b[0m 19ms/step - accuracy: 0.8264 - loss: 0.4231 - val_accuracy: 0.8500 - val_loss: 0.2991\n",
            "Epoch 52/100\n",
            "\u001b[1m3/3\u001b[0m \u001b[32m━━━━━━━━━━━━━━━━━━━━\u001b[0m\u001b[37m\u001b[0m \u001b[1m0s\u001b[0m 18ms/step - accuracy: 0.8303 - loss: 0.4202 - val_accuracy: 0.8500 - val_loss: 0.2956\n",
            "Epoch 53/100\n",
            "\u001b[1m3/3\u001b[0m \u001b[32m━━━━━━━━━━━━━━━━━━━━\u001b[0m\u001b[37m\u001b[0m \u001b[1m0s\u001b[0m 20ms/step - accuracy: 0.8733 - loss: 0.3745 - val_accuracy: 0.8500 - val_loss: 0.2923\n",
            "Epoch 54/100\n",
            "\u001b[1m3/3\u001b[0m \u001b[32m━━━━━━━━━━━━━━━━━━━━\u001b[0m\u001b[37m\u001b[0m \u001b[1m0s\u001b[0m 18ms/step - accuracy: 0.8225 - loss: 0.4186 - val_accuracy: 0.8500 - val_loss: 0.2894\n",
            "Epoch 55/100\n",
            "\u001b[1m3/3\u001b[0m \u001b[32m━━━━━━━━━━━━━━━━━━━━\u001b[0m\u001b[37m\u001b[0m \u001b[1m0s\u001b[0m 17ms/step - accuracy: 0.8498 - loss: 0.3925 - val_accuracy: 0.8500 - val_loss: 0.2867\n",
            "Epoch 56/100\n",
            "\u001b[1m3/3\u001b[0m \u001b[32m━━━━━━━━━━━━━━━━━━━━\u001b[0m\u001b[37m\u001b[0m \u001b[1m0s\u001b[0m 17ms/step - accuracy: 0.8108 - loss: 0.4422 - val_accuracy: 0.8500 - val_loss: 0.2846\n",
            "Epoch 57/100\n",
            "\u001b[1m3/3\u001b[0m \u001b[32m━━━━━━━━━━━━━━━━━━━━\u001b[0m\u001b[37m\u001b[0m \u001b[1m0s\u001b[0m 18ms/step - accuracy: 0.8616 - loss: 0.3770 - val_accuracy: 0.8500 - val_loss: 0.2815\n",
            "Epoch 58/100\n",
            "\u001b[1m3/3\u001b[0m \u001b[32m━━━━━━━━━━━━━━━━━━━━\u001b[0m\u001b[37m\u001b[0m \u001b[1m0s\u001b[0m 17ms/step - accuracy: 0.8537 - loss: 0.3692 - val_accuracy: 0.8500 - val_loss: 0.2790\n",
            "Epoch 59/100\n",
            "\u001b[1m3/3\u001b[0m \u001b[32m━━━━━━━━━━━━━━━━━━━━\u001b[0m\u001b[37m\u001b[0m \u001b[1m0s\u001b[0m 17ms/step - accuracy: 0.8537 - loss: 0.3820 - val_accuracy: 0.8500 - val_loss: 0.2774\n",
            "Epoch 60/100\n",
            "\u001b[1m3/3\u001b[0m \u001b[32m━━━━━━━━━━━━━━━━━━━━\u001b[0m\u001b[37m\u001b[0m \u001b[1m0s\u001b[0m 25ms/step - accuracy: 0.8537 - loss: 0.3692 - val_accuracy: 0.8500 - val_loss: 0.2760\n",
            "Epoch 61/100\n",
            "\u001b[1m3/3\u001b[0m \u001b[32m━━━━━━━━━━━━━━━━━━━━\u001b[0m\u001b[37m\u001b[0m \u001b[1m0s\u001b[0m 21ms/step - accuracy: 0.8498 - loss: 0.3806 - val_accuracy: 0.8500 - val_loss: 0.2751\n",
            "Epoch 62/100\n",
            "\u001b[1m3/3\u001b[0m \u001b[32m━━━━━━━━━━━━━━━━━━━━\u001b[0m\u001b[37m\u001b[0m \u001b[1m0s\u001b[0m 18ms/step - accuracy: 0.8420 - loss: 0.3864 - val_accuracy: 0.8500 - val_loss: 0.2741\n",
            "Epoch 63/100\n",
            "\u001b[1m3/3\u001b[0m \u001b[32m━━━━━━━━━━━━━━━━━━━━\u001b[0m\u001b[37m\u001b[0m \u001b[1m0s\u001b[0m 18ms/step - accuracy: 0.8733 - loss: 0.3465 - val_accuracy: 0.8500 - val_loss: 0.2731\n",
            "Epoch 64/100\n",
            "\u001b[1m3/3\u001b[0m \u001b[32m━━━━━━━━━━━━━━━━━━━━\u001b[0m\u001b[37m\u001b[0m \u001b[1m0s\u001b[0m 17ms/step - accuracy: 0.8420 - loss: 0.4090 - val_accuracy: 0.8500 - val_loss: 0.2737\n",
            "Epoch 65/100\n",
            "\u001b[1m3/3\u001b[0m \u001b[32m━━━━━━━━━━━━━━━━━━━━\u001b[0m\u001b[37m\u001b[0m \u001b[1m0s\u001b[0m 17ms/step - accuracy: 0.8616 - loss: 0.3787 - val_accuracy: 0.8500 - val_loss: 0.2733\n",
            "Epoch 66/100\n",
            "\u001b[1m3/3\u001b[0m \u001b[32m━━━━━━━━━━━━━━━━━━━━\u001b[0m\u001b[37m\u001b[0m \u001b[1m0s\u001b[0m 18ms/step - accuracy: 0.8186 - loss: 0.4179 - val_accuracy: 0.9000 - val_loss: 0.2731\n",
            "Epoch 67/100\n",
            "\u001b[1m3/3\u001b[0m \u001b[32m━━━━━━━━━━━━━━━━━━━━\u001b[0m\u001b[37m\u001b[0m \u001b[1m0s\u001b[0m 18ms/step - accuracy: 0.8498 - loss: 0.3972 - val_accuracy: 0.9000 - val_loss: 0.2720\n",
            "Epoch 68/100\n",
            "\u001b[1m3/3\u001b[0m \u001b[32m━━━━━━━━━━━━━━━━━━━━\u001b[0m\u001b[37m\u001b[0m \u001b[1m0s\u001b[0m 17ms/step - accuracy: 0.8655 - loss: 0.3600 - val_accuracy: 0.9000 - val_loss: 0.2716\n",
            "Epoch 69/100\n",
            "\u001b[1m3/3\u001b[0m \u001b[32m━━━━━━━━━━━━━━━━━━━━\u001b[0m\u001b[37m\u001b[0m \u001b[1m0s\u001b[0m 18ms/step - accuracy: 0.8459 - loss: 0.3918 - val_accuracy: 0.8500 - val_loss: 0.2712\n",
            "Epoch 70/100\n",
            "\u001b[1m3/3\u001b[0m \u001b[32m━━━━━━━━━━━━━━━━━━━━\u001b[0m\u001b[37m\u001b[0m \u001b[1m0s\u001b[0m 18ms/step - accuracy: 0.8537 - loss: 0.3776 - val_accuracy: 0.8500 - val_loss: 0.2702\n",
            "Epoch 71/100\n",
            "\u001b[1m3/3\u001b[0m \u001b[32m━━━━━━━━━━━━━━━━━━━━\u001b[0m\u001b[37m\u001b[0m \u001b[1m0s\u001b[0m 21ms/step - accuracy: 0.8381 - loss: 0.4057 - val_accuracy: 0.8500 - val_loss: 0.2695\n",
            "Epoch 72/100\n",
            "\u001b[1m3/3\u001b[0m \u001b[32m━━━━━━━━━━━━━━━━━━━━\u001b[0m\u001b[37m\u001b[0m \u001b[1m0s\u001b[0m 22ms/step - accuracy: 0.8264 - loss: 0.4031 - val_accuracy: 0.8500 - val_loss: 0.2682\n",
            "Epoch 73/100\n",
            "\u001b[1m3/3\u001b[0m \u001b[32m━━━━━━━━━━━━━━━━━━━━\u001b[0m\u001b[37m\u001b[0m \u001b[1m0s\u001b[0m 22ms/step - accuracy: 0.8420 - loss: 0.3922 - val_accuracy: 0.8500 - val_loss: 0.2677\n",
            "Epoch 74/100\n",
            "\u001b[1m3/3\u001b[0m \u001b[32m━━━━━━━━━━━━━━━━━━━━\u001b[0m\u001b[37m\u001b[0m \u001b[1m0s\u001b[0m 17ms/step - accuracy: 0.8108 - loss: 0.4289 - val_accuracy: 0.8500 - val_loss: 0.2672\n",
            "Epoch 75/100\n",
            "\u001b[1m3/3\u001b[0m \u001b[32m━━━━━━━━━━━━━━━━━━━━\u001b[0m\u001b[37m\u001b[0m \u001b[1m0s\u001b[0m 17ms/step - accuracy: 0.8733 - loss: 0.3531 - val_accuracy: 0.8500 - val_loss: 0.2665\n",
            "Epoch 76/100\n",
            "\u001b[1m3/3\u001b[0m \u001b[32m━━━━━━━━━━━━━━━━━━━━\u001b[0m\u001b[37m\u001b[0m \u001b[1m0s\u001b[0m 17ms/step - accuracy: 0.8381 - loss: 0.3728 - val_accuracy: 0.9000 - val_loss: 0.2661\n",
            "Epoch 77/100\n",
            "\u001b[1m3/3\u001b[0m \u001b[32m━━━━━━━━━━━━━━━━━━━━\u001b[0m\u001b[37m\u001b[0m \u001b[1m0s\u001b[0m 18ms/step - accuracy: 0.8264 - loss: 0.3964 - val_accuracy: 0.9000 - val_loss: 0.2650\n",
            "Epoch 78/100\n",
            "\u001b[1m3/3\u001b[0m \u001b[32m━━━━━━━━━━━━━━━━━━━━\u001b[0m\u001b[37m\u001b[0m \u001b[1m0s\u001b[0m 24ms/step - accuracy: 0.8381 - loss: 0.3942 - val_accuracy: 0.9000 - val_loss: 0.2643\n",
            "Epoch 79/100\n",
            "\u001b[1m3/3\u001b[0m \u001b[32m━━━━━━━━━━━━━━━━━━━━\u001b[0m\u001b[37m\u001b[0m \u001b[1m0s\u001b[0m 17ms/step - accuracy: 0.8459 - loss: 0.3901 - val_accuracy: 0.9000 - val_loss: 0.2637\n",
            "Epoch 80/100\n",
            "\u001b[1m3/3\u001b[0m \u001b[32m━━━━━━━━━━━━━━━━━━━━\u001b[0m\u001b[37m\u001b[0m \u001b[1m0s\u001b[0m 17ms/step - accuracy: 0.8381 - loss: 0.4138 - val_accuracy: 0.9000 - val_loss: 0.2626\n",
            "Epoch 81/100\n",
            "\u001b[1m3/3\u001b[0m \u001b[32m━━━━━━━━━━━━━━━━━━━━\u001b[0m\u001b[37m\u001b[0m \u001b[1m0s\u001b[0m 16ms/step - accuracy: 0.8420 - loss: 0.3758 - val_accuracy: 0.9000 - val_loss: 0.2625\n",
            "Epoch 82/100\n",
            "\u001b[1m3/3\u001b[0m \u001b[32m━━━━━━━━━━━━━━━━━━━━\u001b[0m\u001b[37m\u001b[0m \u001b[1m0s\u001b[0m 20ms/step - accuracy: 0.8537 - loss: 0.3792 - val_accuracy: 0.9000 - val_loss: 0.2628\n",
            "Epoch 83/100\n",
            "\u001b[1m3/3\u001b[0m \u001b[32m━━━━━━━━━━━━━━━━━━━━\u001b[0m\u001b[37m\u001b[0m \u001b[1m0s\u001b[0m 17ms/step - accuracy: 0.8381 - loss: 0.3827 - val_accuracy: 0.9000 - val_loss: 0.2634\n",
            "Epoch 84/100\n",
            "\u001b[1m3/3\u001b[0m \u001b[32m━━━━━━━━━━━━━━━━━━━━\u001b[0m\u001b[37m\u001b[0m \u001b[1m0s\u001b[0m 45ms/step - accuracy: 0.8835 - loss: 0.3590 - val_accuracy: 0.9000 - val_loss: 0.2636\n",
            "Epoch 85/100\n",
            "\u001b[1m3/3\u001b[0m \u001b[32m━━━━━━━━━━━━━━━━━━━━\u001b[0m\u001b[37m\u001b[0m \u001b[1m0s\u001b[0m 41ms/step - accuracy: 0.8562 - loss: 0.3692 - val_accuracy: 0.9000 - val_loss: 0.2637\n",
            "Epoch 86/100\n",
            "\u001b[1m3/3\u001b[0m \u001b[32m━━━━━━━━━━━━━━━━━━━━\u001b[0m\u001b[37m\u001b[0m \u001b[1m0s\u001b[0m 50ms/step - accuracy: 0.8796 - loss: 0.3588 - val_accuracy: 0.9000 - val_loss: 0.2638\n",
            "Epoch 87/100\n",
            "\u001b[1m3/3\u001b[0m \u001b[32m━━━━━━━━━━━━━━━━━━━━\u001b[0m\u001b[37m\u001b[0m \u001b[1m0s\u001b[0m 42ms/step - accuracy: 0.8562 - loss: 0.3731 - val_accuracy: 0.9000 - val_loss: 0.2645\n",
            "Epoch 88/100\n",
            "\u001b[1m3/3\u001b[0m \u001b[32m━━━━━━━━━━━━━━━━━━━━\u001b[0m\u001b[37m\u001b[0m \u001b[1m0s\u001b[0m 48ms/step - accuracy: 0.8601 - loss: 0.3934 - val_accuracy: 0.9000 - val_loss: 0.2655\n",
            "Epoch 89/100\n",
            "\u001b[1m3/3\u001b[0m \u001b[32m━━━━━━━━━━━━━━━━━━━━\u001b[0m\u001b[37m\u001b[0m \u001b[1m0s\u001b[0m 30ms/step - accuracy: 0.8483 - loss: 0.3806 - val_accuracy: 0.9000 - val_loss: 0.2657\n",
            "Epoch 90/100\n",
            "\u001b[1m3/3\u001b[0m \u001b[32m━━━━━━━━━━━━━━━━━━━━\u001b[0m\u001b[37m\u001b[0m \u001b[1m0s\u001b[0m 42ms/step - accuracy: 0.8601 - loss: 0.3801 - val_accuracy: 0.9000 - val_loss: 0.2661\n",
            "Epoch 91/100\n",
            "\u001b[1m3/3\u001b[0m \u001b[32m━━━━━━━━━━━━━━━━━━━━\u001b[0m\u001b[37m\u001b[0m \u001b[1m0s\u001b[0m 70ms/step - accuracy: 0.8718 - loss: 0.3336 - val_accuracy: 0.9000 - val_loss: 0.2655\n",
            "Epoch 92/100\n",
            "\u001b[1m3/3\u001b[0m \u001b[32m━━━━━━━━━━━━━━━━━━━━\u001b[0m\u001b[37m\u001b[0m \u001b[1m0s\u001b[0m 54ms/step - accuracy: 0.8483 - loss: 0.4023 - val_accuracy: 0.9000 - val_loss: 0.2663\n",
            "Epoch 93/100\n",
            "\u001b[1m3/3\u001b[0m \u001b[32m━━━━━━━━━━━━━━━━━━━━\u001b[0m\u001b[37m\u001b[0m \u001b[1m0s\u001b[0m 71ms/step - accuracy: 0.8757 - loss: 0.3477 - val_accuracy: 0.9000 - val_loss: 0.2661\n",
            "Epoch 94/100\n",
            "\u001b[1m3/3\u001b[0m \u001b[32m━━━━━━━━━━━━━━━━━━━━\u001b[0m\u001b[37m\u001b[0m \u001b[1m0s\u001b[0m 59ms/step - accuracy: 0.8718 - loss: 0.3750 - val_accuracy: 0.9000 - val_loss: 0.2652\n",
            "Epoch 95/100\n",
            "\u001b[1m3/3\u001b[0m \u001b[32m━━━━━━━━━━━━━━━━━━━━\u001b[0m\u001b[37m\u001b[0m \u001b[1m0s\u001b[0m 34ms/step - accuracy: 0.8483 - loss: 0.3954 - val_accuracy: 0.9000 - val_loss: 0.2646\n",
            "Epoch 96/100\n",
            "\u001b[1m3/3\u001b[0m \u001b[32m━━━━━━━━━━━━━━━━━━━━\u001b[0m\u001b[37m\u001b[0m \u001b[1m0s\u001b[0m 24ms/step - accuracy: 0.8796 - loss: 0.3395 - val_accuracy: 0.9000 - val_loss: 0.2647\n",
            "Epoch 97/100\n",
            "\u001b[1m3/3\u001b[0m \u001b[32m━━━━━━━━━━━━━━━━━━━━\u001b[0m\u001b[37m\u001b[0m \u001b[1m0s\u001b[0m 24ms/step - accuracy: 0.8640 - loss: 0.3608 - val_accuracy: 0.9000 - val_loss: 0.2637\n",
            "Epoch 98/100\n",
            "\u001b[1m3/3\u001b[0m \u001b[32m━━━━━━━━━━━━━━━━━━━━\u001b[0m\u001b[37m\u001b[0m \u001b[1m0s\u001b[0m 33ms/step - accuracy: 0.8874 - loss: 0.3314 - val_accuracy: 0.9000 - val_loss: 0.2624\n",
            "Epoch 99/100\n",
            "\u001b[1m3/3\u001b[0m \u001b[32m━━━━━━━━━━━━━━━━━━━━\u001b[0m\u001b[37m\u001b[0m \u001b[1m0s\u001b[0m 24ms/step - accuracy: 0.8523 - loss: 0.3947 - val_accuracy: 0.9000 - val_loss: 0.2624\n",
            "Epoch 100/100\n",
            "\u001b[1m3/3\u001b[0m \u001b[32m━━━━━━━━━━━━━━━━━━━━\u001b[0m\u001b[37m\u001b[0m \u001b[1m0s\u001b[0m 35ms/step - accuracy: 0.8523 - loss: 0.3865 - val_accuracy: 0.9000 - val_loss: 0.2624\n"
          ]
        }
      ]
    },
    {
      "cell_type": "code",
      "source": [
        "model.get_weights()"
      ],
      "metadata": {
        "colab": {
          "base_uri": "https://localhost:8080/"
        },
        "id": "Sfa1fhNgL6zH",
        "outputId": "100992e7-8dd2-43d1-cb0b-79715d9d1d65"
      },
      "execution_count": null,
      "outputs": [
        {
          "output_type": "execute_result",
          "data": {
            "text/plain": [
              "[array([[ 0.15243757, -0.15691258, -0.24865796, -0.18697377, -0.6853022 ,\n",
              "          0.18120886,  0.21045917, -0.6167796 , -0.5240837 ,  0.489133  ],\n",
              "        [ 0.4414268 , -0.7974677 , -0.20272547,  0.5790054 , -0.73285186,\n",
              "         -0.2738718 ,  0.2007781 , -0.57008445,  0.12832022,  0.2297191 ]],\n",
              "       dtype=float32),\n",
              " array([-0.00317089,  0.07106301, -0.03525447,  0.03003435,  0.1348316 ,\n",
              "        -0.0251186 , -0.03211004, -0.04608509,  0.07347847, -0.04658607],\n",
              "       dtype=float32),\n",
              " array([[-0.23928477,  0.38817388,  0.36035505,  0.4884966 ,  0.108215  ,\n",
              "          0.20035897,  0.08799261,  0.21076252, -0.08628359,  0.34767887],\n",
              "        [-0.56201655, -0.29983145,  0.39721736, -0.28131056, -0.48063323,\n",
              "          0.03807173, -0.5329226 ,  0.36640018, -0.31814536,  0.38043976],\n",
              "        [ 0.21008393,  0.30744943, -0.3232908 ,  0.28032142,  0.05788426,\n",
              "          0.34104598, -0.02159674,  0.4757847 , -0.13235135,  0.3510595 ],\n",
              "        [ 0.4925003 , -0.31652582, -0.2086126 , -0.44417223,  0.2844457 ,\n",
              "         -0.523127  ,  0.212203  ,  0.14307061,  0.2745639 ,  0.4660458 ],\n",
              "        [-0.20790057,  0.1271894 , -0.21267517, -0.09783803, -0.14466904,\n",
              "          0.30879205, -0.49973252,  0.4136585 , -0.38519424, -0.4900196 ],\n",
              "        [-0.00715695, -0.08172181,  0.7136767 ,  0.09180954, -0.65563095,\n",
              "          0.19167209, -0.5833853 , -0.39939347,  0.38758394, -0.45100462],\n",
              "        [ 0.16856821, -0.10684738, -0.27947402, -0.16622014,  0.02160615,\n",
              "          0.29945803, -0.22028635, -0.48259896, -0.22172683, -0.62985677],\n",
              "        [ 0.45287803, -0.2880966 ,  0.4180023 ,  0.1967122 ,  0.24626024,\n",
              "          0.1261948 ,  0.31431442, -0.5017679 ,  0.22170815, -0.28083894],\n",
              "        [ 0.06615018,  0.45754984,  0.05584159,  0.20815565, -0.01769231,\n",
              "         -0.485689  ,  0.5653747 ,  0.3219281 ,  0.5147191 , -0.34536237],\n",
              "        [-0.09391422,  0.10797219,  0.554829  , -0.0146704 , -0.11898796,\n",
              "          0.31079417, -0.35510942, -0.2797387 , -0.04147882,  0.45686495]],\n",
              "       dtype=float32),\n",
              " array([-0.02224017, -0.027132  ,  0.00067312, -0.07204758,  0.03087271,\n",
              "        -0.01029312,  0.08419446,  0.04419708,  0.03108438, -0.07998555],\n",
              "       dtype=float32),\n",
              " array([[-0.20343864,  0.39378688,  0.11701157, -0.14271092, -0.32866183,\n",
              "         -0.3539251 , -0.2267175 , -0.35333592, -0.63244706, -0.2878282 ],\n",
              "        [ 0.39031363,  0.2941456 ,  0.25067317, -0.24863967, -0.10214444,\n",
              "          0.44301793,  0.15263487, -0.31482577,  0.18798907,  0.02467135],\n",
              "        [-0.30162904, -0.5251523 , -0.33899438, -0.23858997, -0.13164939,\n",
              "         -0.61827457, -0.07724795,  0.31012732,  0.07752366,  0.40963274],\n",
              "        [-0.18769103,  0.11094498, -0.10056774, -0.43665174,  0.3896423 ,\n",
              "         -0.1979075 , -0.29945803, -0.48084193, -0.10328552, -0.3316058 ],\n",
              "        [ 0.50840926, -0.19147238,  0.08679349,  0.4165095 , -0.62124723,\n",
              "         -0.04423995,  0.34174454,  0.33750883,  0.07528283, -0.72328854],\n",
              "        [-0.07195867, -0.4123139 , -0.2021579 , -0.59878355,  0.09399378,\n",
              "         -0.07370854,  0.5756296 ,  0.09949958,  0.49306288, -0.16380242],\n",
              "        [ 0.49269947,  0.26653916, -0.49777758,  0.28050816,  0.2843511 ,\n",
              "         -0.15589479,  0.2729371 , -0.58297986, -0.09801047, -0.04090504],\n",
              "        [ 0.3508764 , -0.27825588,  0.4003526 ,  0.02224814, -0.5036011 ,\n",
              "         -0.3008817 , -0.286535  ,  0.44905353,  0.12618142,  0.378422  ],\n",
              "        [ 0.287197  , -0.44034395, -0.37816185,  0.06282734,  0.18880408,\n",
              "          0.52328366,  0.06541892,  0.31663877, -0.53642005, -0.57842886],\n",
              "        [ 0.30678993,  0.08894929,  0.1783754 ,  0.4012182 ,  0.24819902,\n",
              "          0.18577793,  0.3735146 , -0.4227724 , -0.16854455,  0.41200727]],\n",
              "       dtype=float32),\n",
              " array([ 0.02372383, -0.00280851, -0.01733099,  0.03386314,  0.03127923,\n",
              "        -0.04500971,  0.05292919,  0.0427506 ,  0.0074175 ,  0.02953564],\n",
              "       dtype=float32),\n",
              " array([[-0.5882374 , -0.2383569 ,  0.06239012, -0.09675048,  0.00824791,\n",
              "         -0.6387902 ,  0.68868464, -0.5321929 , -0.19066729,  0.2018655 ],\n",
              "        [-0.19688351, -0.39720303,  0.3468825 ,  0.00356319,  0.3955419 ,\n",
              "          0.19564183,  0.2567465 , -0.1629025 , -0.35463762, -0.2443784 ],\n",
              "        [ 0.12736875,  0.26027593,  0.4103792 , -0.15605117, -0.3921297 ,\n",
              "          0.10366748, -0.34526733, -0.16776739, -0.50195944,  0.11546152],\n",
              "        [-0.1876634 , -0.32288906, -0.07720935,  0.39603   ,  0.39827815,\n",
              "          0.11344524,  0.23545077, -0.52105725,  0.18953766, -0.3535783 ],\n",
              "        [ 0.02654639,  0.29212895, -0.19245216,  0.2251571 , -0.2519903 ,\n",
              "         -0.30505162, -0.4909507 ,  0.55234015,  0.11659738,  0.42570937],\n",
              "        [ 0.49188516,  0.2503546 ,  0.41736445, -0.53658366,  0.07247356,\n",
              "         -0.4475103 , -0.26666734, -0.05692907, -0.41608357,  0.46264663],\n",
              "        [-0.44700092,  0.13594876,  0.12294725, -0.19893447, -0.11938326,\n",
              "          0.01199622,  0.13181801, -0.268728  ,  0.2838011 ,  0.23976815],\n",
              "        [-0.4242641 , -0.41685688, -0.5524774 ,  0.32633597,  0.43719518,\n",
              "         -0.27059102, -0.38902873,  0.39104792,  0.58113784,  0.52315646],\n",
              "        [ 0.32630396, -0.5971787 , -0.3191716 ,  0.5889659 , -0.2596847 ,\n",
              "          0.18923268,  0.30998537,  0.67461145,  0.19017686,  0.08732907],\n",
              "        [ 0.52373695, -0.10632214, -0.605126  , -0.18681312, -0.5182794 ,\n",
              "          0.36394244, -0.07542358, -0.30977136, -0.16361482,  0.08584507]],\n",
              "       dtype=float32),\n",
              " array([-0.00718092, -0.02916891, -0.02352025,  0.033072  , -0.02066474,\n",
              "         0.0332513 , -0.00241136, -0.00856466,  0.0114842 ,  0.02824394],\n",
              "       dtype=float32),\n",
              " array([[ 0.2351871 ],\n",
              "        [-0.13891919],\n",
              "        [-0.7383811 ],\n",
              "        [ 0.11183815],\n",
              "        [-0.4925722 ],\n",
              "        [ 0.514917  ],\n",
              "        [-0.42417607],\n",
              "        [ 0.4523804 ],\n",
              "        [ 0.4245635 ],\n",
              "        [ 0.49758598]], dtype=float32),\n",
              " array([0.02829424], dtype=float32)]"
            ]
          },
          "metadata": {},
          "execution_count": 33
        }
      ]
    },
    {
      "cell_type": "code",
      "source": [
        "from mlxtend.plotting import plot_decision_regions\n",
        "plot_decision_regions(X,y.astype('int'), clf=model, legend=2)"
      ],
      "metadata": {
        "colab": {
          "base_uri": "https://localhost:8080/",
          "height": 465
        },
        "id": "CSjI0o7bL62N",
        "outputId": "0789aa16-125d-4b56-ad5f-926684ca8ac8"
      },
      "execution_count": null,
      "outputs": [
        {
          "output_type": "stream",
          "name": "stdout",
          "text": [
            "\u001b[1m9600/9600\u001b[0m \u001b[32m━━━━━━━━━━━━━━━━━━━━\u001b[0m\u001b[37m\u001b[0m \u001b[1m15s\u001b[0m 2ms/step\n"
          ]
        },
        {
          "output_type": "execute_result",
          "data": {
            "text/plain": [
              "<Axes: >"
            ]
          },
          "metadata": {},
          "execution_count": 34
        },
        {
          "output_type": "display_data",
          "data": {
            "text/plain": [
              "<Figure size 640x480 with 1 Axes>"
            ],
            "image/png": "[encoded data removed]"
          },
          "metadata": {}
        }
      ]
    },
    {
      "cell_type": "code",
      "source": [
        "(np.random.randn(10,10)*0.01).min()"
      ],
      "metadata": {
        "colab": {
          "base_uri": "https://localhost:8080/"
        },
        "id": "ISnSdsYCL65P",
        "outputId": "7d106616-1a69-455e-bb31-1b2c6c08bef2"
      },
      "execution_count": null,
      "outputs": [
        {
          "output_type": "execute_result",
          "data": {
            "text/plain": [
              "-0.02968118945345897"
            ]
          },
          "metadata": {},
          "execution_count": 35
        }
      ]
    },
    {
      "cell_type": "code",
      "source": [
        "(np.random.randn(10,10)*0.01).max()"
      ],
      "metadata": {
        "colab": {
          "base_uri": "https://localhost:8080/"
        },
        "id": "pQi9dCXFMuDP",
        "outputId": "03b38b06-4f1e-44fd-bd30-8a2bbddad0fb"
      },
      "execution_count": null,
      "outputs": [
        {
          "output_type": "execute_result",
          "data": {
            "text/plain": [
              "0.03421427590246695"
            ]
          },
          "metadata": {},
          "execution_count": 36
        }
      ]
    },
    {
      "cell_type": "markdown",
      "source": [
        "## Using Keras"
      ],
      "metadata": {
        "id": "WhbZFbCYND9w"
      }
    },
    {
      "cell_type": "code",
      "source": [
        "model = Sequential()\n",
        "\n",
        "model.add(Dense(10,activation='tanh',input_dim=2,kernel_initializer='GlorotNormal'))\n",
        "model.add(Dense(10,activation='tanh',kernel_initializer='GlorotNormal'))\n",
        "model.add(Dense(10,activation='tanh',kernel_initializer='GlorotNormal'))\n",
        "model.add(Dense(10,activation='tanh',kernel_initializer='GlorotNormal'))\n",
        "model.add(Dense(1,activation='sigmoid'))\n",
        "\n",
        "model.summary()"
      ],
      "metadata": {
        "colab": {
          "base_uri": "https://localhost:8080/",
          "height": 346
        },
        "id": "VXanX46kMuFq",
        "outputId": "db92056c-6356-49c6-a84c-49e7a5b114ff"
      },
      "execution_count": null,
      "outputs": [
        {
          "output_type": "stream",
          "name": "stderr",
          "text": [
            "/usr/local/lib/python3.10/dist-packages/keras/src/layers/core/dense.py:87: UserWarning: Do not pass an `input_shape`/`input_dim` argument to a layer. When using Sequential models, prefer using an `Input(shape)` object as the first layer in the model instead.\n",
            "  super().__init__(activity_regularizer=activity_regularizer, **kwargs)\n"
          ]
        },
        {
          "output_type": "display_data",
          "data": {
            "text/plain": [
              "\u001b[1mModel: \"sequential_3\"\u001b[0m\n"
            ],
            "text/html": [
              "<pre style=\"white-space:pre;overflow-x:auto;line-height:normal;font-family:Menlo,'DejaVu Sans Mono',consolas,'Courier New',monospace\"><span style=\"font-weight: bold\">Model: \"sequential_3\"</span>\n",
              "</pre>\n"
            ]
          },
          "metadata": {}
        },
        {
          "output_type": "display_data",
          "data": {
            "text/plain": [
              "┏━━━━━━━━━━━━━━━━━━━━━━━━━━━━━━━━━━━━━━┳━━━━━━━━━━━━━━━━━━━━━━━━━━━━━┳━━━━━━━━━━━━━━━━━┓\n",
              "┃\u001b[1m \u001b[0m\u001b[1mLayer (type)                        \u001b[0m\u001b[1m \u001b[0m┃\u001b[1m \u001b[0m\u001b[1mOutput Shape               \u001b[0m\u001b[1m \u001b[0m┃\u001b[1m \u001b[0m\u001b[1m        Param #\u001b[0m\u001b[1m \u001b[0m┃\n",
              "┡━━━━━━━━━━━━━━━━━━━━━━━━━━━━━━━━━━━━━━╇━━━━━━━━━━━━━━━━━━━━━━━━━━━━━╇━━━━━━━━━━━━━━━━━┩\n",
              "│ dense_15 (\u001b[38;5;33mDense\u001b[0m)                     │ (\u001b[38;5;45mNone\u001b[0m, \u001b[38;5;34m10\u001b[0m)                  │              \u001b[38;5;34m30\u001b[0m │\n",
              "├──────────────────────────────────────┼─────────────────────────────┼─────────────────┤\n",
              "│ dense_16 (\u001b[38;5;33mDense\u001b[0m)                     │ (\u001b[38;5;45mNone\u001b[0m, \u001b[38;5;34m10\u001b[0m)                  │             \u001b[38;5;34m110\u001b[0m │\n",
              "├──────────────────────────────────────┼─────────────────────────────┼─────────────────┤\n",
              "│ dense_17 (\u001b[38;5;33mDense\u001b[0m)                     │ (\u001b[38;5;45mNone\u001b[0m, \u001b[38;5;34m10\u001b[0m)                  │             \u001b[38;5;34m110\u001b[0m │\n",
              "├──────────────────────────────────────┼─────────────────────────────┼─────────────────┤\n",
              "│ dense_18 (\u001b[38;5;33mDense\u001b[0m)                     │ (\u001b[38;5;45mNone\u001b[0m, \u001b[38;5;34m10\u001b[0m)                  │             \u001b[38;5;34m110\u001b[0m │\n",
              "├──────────────────────────────────────┼─────────────────────────────┼─────────────────┤\n",
              "│ dense_19 (\u001b[38;5;33mDense\u001b[0m)                     │ (\u001b[38;5;45mNone\u001b[0m, \u001b[38;5;34m1\u001b[0m)                   │              \u001b[38;5;34m11\u001b[0m │\n",
              "└──────────────────────────────────────┴─────────────────────────────┴─────────────────┘\n"
            ],
            "text/html": [
              "<pre style=\"white-space:pre;overflow-x:auto;line-height:normal;font-family:Menlo,'DejaVu Sans Mono',consolas,'Courier New',monospace\">┏━━━━━━━━━━━━━━━━━━━━━━━━━━━━━━━━━━━━━━┳━━━━━━━━━━━━━━━━━━━━━━━━━━━━━┳━━━━━━━━━━━━━━━━━┓\n",
              "┃<span style=\"font-weight: bold\"> Layer (type)                         </span>┃<span style=\"font-weight: bold\"> Output Shape                </span>┃<span style=\"font-weight: bold\">         Param # </span>┃\n",
              "┡━━━━━━━━━━━━━━━━━━━━━━━━━━━━━━━━━━━━━━╇━━━━━━━━━━━━━━━━━━━━━━━━━━━━━╇━━━━━━━━━━━━━━━━━┩\n",
              "│ dense_15 (<span style=\"color: #0087ff; text-decoration-color: #0087ff\">Dense</span>)                     │ (<span style=\"color: #00d7ff; text-decoration-color: #00d7ff\">None</span>, <span style=\"color: #00af00; text-decoration-color: #00af00\">10</span>)                  │              <span style=\"color: #00af00; text-decoration-color: #00af00\">30</span> │\n",
              "├──────────────────────────────────────┼─────────────────────────────┼─────────────────┤\n",
              "│ dense_16 (<span style=\"color: #0087ff; text-decoration-color: #0087ff\">Dense</span>)                     │ (<span style=\"color: #00d7ff; text-decoration-color: #00d7ff\">None</span>, <span style=\"color: #00af00; text-decoration-color: #00af00\">10</span>)                  │             <span style=\"color: #00af00; text-decoration-color: #00af00\">110</span> │\n",
              "├──────────────────────────────────────┼─────────────────────────────┼─────────────────┤\n",
              "│ dense_17 (<span style=\"color: #0087ff; text-decoration-color: #0087ff\">Dense</span>)                     │ (<span style=\"color: #00d7ff; text-decoration-color: #00d7ff\">None</span>, <span style=\"color: #00af00; text-decoration-color: #00af00\">10</span>)                  │             <span style=\"color: #00af00; text-decoration-color: #00af00\">110</span> │\n",
              "├──────────────────────────────────────┼─────────────────────────────┼─────────────────┤\n",
              "│ dense_18 (<span style=\"color: #0087ff; text-decoration-color: #0087ff\">Dense</span>)                     │ (<span style=\"color: #00d7ff; text-decoration-color: #00d7ff\">None</span>, <span style=\"color: #00af00; text-decoration-color: #00af00\">10</span>)                  │             <span style=\"color: #00af00; text-decoration-color: #00af00\">110</span> │\n",
              "├──────────────────────────────────────┼─────────────────────────────┼─────────────────┤\n",
              "│ dense_19 (<span style=\"color: #0087ff; text-decoration-color: #0087ff\">Dense</span>)                     │ (<span style=\"color: #00d7ff; text-decoration-color: #00d7ff\">None</span>, <span style=\"color: #00af00; text-decoration-color: #00af00\">1</span>)                   │              <span style=\"color: #00af00; text-decoration-color: #00af00\">11</span> │\n",
              "└──────────────────────────────────────┴─────────────────────────────┴─────────────────┘\n",
              "</pre>\n"
            ]
          },
          "metadata": {}
        },
        {
          "output_type": "display_data",
          "data": {
            "text/plain": [
              "\u001b[1m Total params: \u001b[0m\u001b[38;5;34m371\u001b[0m (1.45 KB)\n"
            ],
            "text/html": [
              "<pre style=\"white-space:pre;overflow-x:auto;line-height:normal;font-family:Menlo,'DejaVu Sans Mono',consolas,'Courier New',monospace\"><span style=\"font-weight: bold\"> Total params: </span><span style=\"color: #00af00; text-decoration-color: #00af00\">371</span> (1.45 KB)\n",
              "</pre>\n"
            ]
          },
          "metadata": {}
        },
        {
          "output_type": "display_data",
          "data": {
            "text/plain": [
              "\u001b[1m Trainable params: \u001b[0m\u001b[38;5;34m371\u001b[0m (1.45 KB)\n"
            ],
            "text/html": [
              "<pre style=\"white-space:pre;overflow-x:auto;line-height:normal;font-family:Menlo,'DejaVu Sans Mono',consolas,'Courier New',monospace\"><span style=\"font-weight: bold\"> Trainable params: </span><span style=\"color: #00af00; text-decoration-color: #00af00\">371</span> (1.45 KB)\n",
              "</pre>\n"
            ]
          },
          "metadata": {}
        },
        {
          "output_type": "display_data",
          "data": {
            "text/plain": [
              "\u001b[1m Non-trainable params: \u001b[0m\u001b[38;5;34m0\u001b[0m (0.00 B)\n"
            ],
            "text/html": [
              "<pre style=\"white-space:pre;overflow-x:auto;line-height:normal;font-family:Menlo,'DejaVu Sans Mono',consolas,'Courier New',monospace\"><span style=\"font-weight: bold\"> Non-trainable params: </span><span style=\"color: #00af00; text-decoration-color: #00af00\">0</span> (0.00 B)\n",
              "</pre>\n"
            ]
          },
          "metadata": {}
        }
      ]
    },
    {
      "cell_type": "code",
      "source": [
        "model.get_weights()"
      ],
      "metadata": {
        "colab": {
          "base_uri": "https://localhost:8080/"
        },
        "id": "fB3ZIykJMuIU",
        "outputId": "c18f43a1-ae56-4825-b370-54bbbbe64f82"
      },
      "execution_count": null,
      "outputs": [
        {
          "output_type": "execute_result",
          "data": {
            "text/plain": [
              "[array([[ 0.04958418, -0.36982062,  0.32317272,  0.12988807, -0.15480107,\n",
              "         -0.48906076, -0.3877948 ,  0.48488313,  0.83812624, -0.11418283],\n",
              "        [-0.045553  ,  0.16881627,  0.83008343,  0.5892456 ,  0.54040885,\n",
              "          0.38630965,  0.02944448, -0.29248318,  0.45915553, -0.70353866]],\n",
              "       dtype=float32),\n",
              " array([0., 0., 0., 0., 0., 0., 0., 0., 0., 0.], dtype=float32),\n",
              " array([[-0.16859415,  0.23233542, -0.08142119, -0.44722268, -0.5337566 ,\n",
              "         -0.17345344, -0.09376564,  0.3249648 ,  0.09699958,  0.16819337],\n",
              "        [ 0.2622163 ,  0.29718408,  0.33224228,  0.11022854, -0.30557787,\n",
              "          0.31211323,  0.4180201 , -0.16082346,  0.511296  ,  0.13919297],\n",
              "        [ 0.65676606,  0.6935654 ,  0.13065958, -0.21801239,  0.33163214,\n",
              "         -0.25809994,  0.56286097,  0.2549362 ,  0.20971815,  0.6390335 ],\n",
              "        [ 0.42196757, -0.3315424 , -0.243789  , -0.3860774 , -0.43385622,\n",
              "          0.06182754,  0.02728453,  0.41484043,  0.4561564 ,  0.28957158],\n",
              "        [-0.24234861,  0.5830005 ,  0.51675963,  0.0462836 ,  0.01392544,\n",
              "          0.04773787,  0.0488572 ,  0.375331  ,  0.55136824, -0.081724  ],\n",
              "        [-0.1201195 , -0.05972008,  0.3193581 , -0.15879335,  0.6839137 ,\n",
              "         -0.04998994,  0.23356125, -0.34165254,  0.15214604,  0.5946075 ],\n",
              "        [ 0.10358818, -0.00443732, -0.30342612, -0.50535196,  0.39249182,\n",
              "         -0.7162963 ,  0.3283165 ,  0.27905682,  0.14744471, -0.24866402],\n",
              "        [-0.24513552,  0.22460234,  0.3746711 ,  0.18940185, -0.15631653,\n",
              "         -0.71486604, -0.2428548 ,  0.49855635,  0.17234536, -0.47193357],\n",
              "        [ 0.04674266, -0.07209989,  0.09976009,  0.12232248,  0.11882389,\n",
              "         -0.50889534, -0.39785564, -0.21278973, -0.60668445,  0.397911  ],\n",
              "        [ 0.27095026, -0.10667662, -0.6244299 , -0.27458534,  0.23982471,\n",
              "          0.17091845, -0.6349323 , -0.68323094, -0.21936667,  0.5706577 ]],\n",
              "       dtype=float32),\n",
              " array([0., 0., 0., 0., 0., 0., 0., 0., 0., 0.], dtype=float32),\n",
              " array([[-4.95608151e-02,  2.86039233e-01,  6.67754263e-02,\n",
              "         -5.35797596e-01,  3.24228764e-01, -2.99076796e-01,\n",
              "          7.43023157e-02,  4.55718249e-01, -1.72119245e-01,\n",
              "         -5.17879844e-01],\n",
              "        [-1.90439224e-01, -5.09860776e-02, -1.95985496e-01,\n",
              "         -1.53051138e-01, -2.64654487e-01,  6.91127628e-02,\n",
              "          2.60958642e-01, -2.09469631e-01, -1.34950072e-01,\n",
              "          2.72242665e-01],\n",
              "        [ 3.65588740e-02,  9.00908038e-02,  3.12510014e-01,\n",
              "          4.11327571e-01, -4.83031794e-02,  3.24544370e-01,\n",
              "          7.83907995e-02,  7.03587770e-01,  3.40943575e-01,\n",
              "         -1.37687713e-01],\n",
              "        [ 4.26516980e-01, -1.42137766e-01,  7.60390684e-02,\n",
              "         -4.66119945e-01,  2.97646970e-01,  1.23214468e-01,\n",
              "          3.58908087e-01,  1.02531612e-01, -1.36740431e-01,\n",
              "          2.82933880e-02],\n",
              "        [-3.23065460e-01, -1.53222874e-01,  3.49965715e-03,\n",
              "         -2.99247026e-01,  3.27682525e-01,  7.49313161e-02,\n",
              "         -2.16174535e-02,  2.15634873e-06,  1.27594277e-01,\n",
              "         -4.21700954e-01],\n",
              "        [-3.44849259e-01,  2.79376745e-01, -5.25799453e-01,\n",
              "         -3.68060678e-01, -1.29989088e-01,  3.81694198e-01,\n",
              "         -1.66701987e-01, -3.20245355e-01, -2.91600704e-01,\n",
              "          1.21021524e-01],\n",
              "        [ 3.37054551e-01,  2.24051788e-01,  5.71855716e-02,\n",
              "          1.25448510e-01,  6.70397639e-01,  2.72217691e-01,\n",
              "          1.55732185e-01, -4.31964159e-01, -4.93236750e-01,\n",
              "         -3.05964261e-01],\n",
              "        [-3.78147542e-01, -1.40825391e-01,  5.00273556e-02,\n",
              "         -6.41261637e-01, -1.85770378e-01, -3.32437783e-01,\n",
              "         -3.09012055e-01, -6.13479316e-01,  5.90247035e-01,\n",
              "         -3.00976336e-01],\n",
              "        [-1.90809425e-02, -2.13930905e-01, -1.14269346e-01,\n",
              "         -1.45324498e-01, -3.23714405e-01,  3.70663106e-01,\n",
              "          9.89681929e-02,  4.97392863e-01, -1.35061175e-01,\n",
              "          3.52952480e-01],\n",
              "        [ 4.66815718e-02,  2.63865292e-02,  1.98525757e-01,\n",
              "          6.73293918e-02, -1.09832801e-01,  6.73992652e-03,\n",
              "         -5.59501708e-01, -1.74789637e-01,  4.00553271e-02,\n",
              "          2.40526482e-01]], dtype=float32),\n",
              " array([0., 0., 0., 0., 0., 0., 0., 0., 0., 0.], dtype=float32),\n",
              " array([[-0.3033634 , -0.05193832, -0.5535893 , -0.36930558, -0.21340083,\n",
              "         -0.3413745 ,  0.47015634, -0.04309764,  0.60550654, -0.07250014],\n",
              "        [ 0.2279335 , -0.28645304,  0.05364469,  0.29123217,  0.04828023,\n",
              "         -0.08816643, -0.04870173, -0.6531975 ,  0.22240236,  0.3333457 ],\n",
              "        [-0.09259398,  0.40581027, -0.2769981 ,  0.25008053,  0.16362445,\n",
              "         -0.5012945 , -0.08939739,  0.6658582 ,  0.28591043, -0.13792598],\n",
              "        [ 0.0888351 ,  0.12193801, -0.1712763 ,  0.23310025,  0.04864215,\n",
              "          0.10596936,  0.21410795,  0.3987749 ,  0.4567689 , -0.20281687],\n",
              "        [-0.26011854,  0.32716635,  0.00943168,  0.14795467, -0.14120896,\n",
              "         -0.26020616, -0.05967778,  0.5839361 , -0.0178864 , -0.50813377],\n",
              "        [-0.16101637, -0.2600069 ,  0.48731014, -0.2662911 ,  0.19357501,\n",
              "          0.00542506,  0.61307377, -0.41465598, -0.3684895 ,  0.5549493 ],\n",
              "        [ 0.04511249,  0.36780313, -0.3905562 , -0.24518546,  0.13585745,\n",
              "          0.40014696,  0.12271763, -0.01471457, -0.43325618, -0.0596724 ],\n",
              "        [ 0.64099795, -0.53420484, -0.2582836 ,  0.23381665,  0.56773317,\n",
              "          0.397912  ,  0.6827479 , -0.13281801,  0.1607775 , -0.06200351],\n",
              "        [-0.04859175, -0.06285827, -0.12373621, -0.3839068 ,  0.05134011,\n",
              "         -0.4287282 , -0.15776809,  0.02758294,  0.63416785,  0.09321813],\n",
              "        [-0.389324  ,  0.06379438,  0.57414067,  0.4008612 , -0.09243152,\n",
              "         -0.362408  ,  0.0094296 ,  0.58972543, -0.48575854,  0.41174105]],\n",
              "       dtype=float32),\n",
              " array([0., 0., 0., 0., 0., 0., 0., 0., 0., 0.], dtype=float32),\n",
              " array([[ 0.47853428],\n",
              "        [ 0.63900226],\n",
              "        [ 0.4805985 ],\n",
              "        [-0.00581586],\n",
              "        [-0.7220154 ],\n",
              "        [ 0.426974  ],\n",
              "        [-0.4342464 ],\n",
              "        [-0.12054908],\n",
              "        [-0.47734836],\n",
              "        [-0.18924797]], dtype=float32),\n",
              " array([0.], dtype=float32)]"
            ]
          },
          "metadata": {},
          "execution_count": 38
        }
      ]
    },
    {
      "cell_type": "code",
      "source": [
        "model.compile(loss='binary_crossentropy',optimizer='adam',metrics=['accuracy'])"
      ],
      "metadata": {
        "id": "tQ1TRqyBMuK0"
      },
      "execution_count": null,
      "outputs": []
    },
    {
      "cell_type": "code",
      "source": [
        "history = model.fit(X,y,epochs=100,validation_split=0.2)"
      ],
      "metadata": {
        "colab": {
          "base_uri": "https://localhost:8080/"
        },
        "id": "fkX3jeeAMuNR",
        "outputId": "fa4785a3-c8cc-4be5-9a0e-8f5c3f6800fe"
      },
      "execution_count": null,
      "outputs": [
        {
          "output_type": "stream",
          "name": "stdout",
          "text": [
            "Epoch 1/100\n",
            "\u001b[1m3/3\u001b[0m \u001b[32m━━━━━━━━━━━━━━━━━━━━\u001b[0m\u001b[37m\u001b[0m \u001b[1m2s\u001b[0m 166ms/step - accuracy: 0.3978 - loss: 0.7165 - val_accuracy: 0.3000 - val_loss: 0.7367\n",
            "Epoch 2/100\n",
            "\u001b[1m3/3\u001b[0m \u001b[32m━━━━━━━━━━━━━━━━━━━━\u001b[0m\u001b[37m\u001b[0m \u001b[1m0s\u001b[0m 27ms/step - accuracy: 0.4676 - loss: 0.6801 - val_accuracy: 0.3000 - val_loss: 0.7047\n",
            "Epoch 3/100\n",
            "\u001b[1m3/3\u001b[0m \u001b[32m━━━━━━━━━━━━━━━━━━━━\u001b[0m\u001b[37m\u001b[0m \u001b[1m0s\u001b[0m 37ms/step - accuracy: 0.4831 - loss: 0.6746 - val_accuracy: 0.5000 - val_loss: 0.6739\n",
            "Epoch 4/100\n",
            "\u001b[1m3/3\u001b[0m \u001b[32m━━━━━━━━━━━━━━━━━━━━\u001b[0m\u001b[37m\u001b[0m \u001b[1m0s\u001b[0m 34ms/step - accuracy: 0.6479 - loss: 0.6502 - val_accuracy: 0.7500 - val_loss: 0.6447\n",
            "Epoch 5/100\n",
            "\u001b[1m3/3\u001b[0m \u001b[32m━━━━━━━━━━━━━━━━━━━━\u001b[0m\u001b[37m\u001b[0m \u001b[1m0s\u001b[0m 37ms/step - accuracy: 0.7348 - loss: 0.6152 - val_accuracy: 0.8000 - val_loss: 0.6167\n",
            "Epoch 6/100\n",
            "\u001b[1m3/3\u001b[0m \u001b[32m━━━━━━━━━━━━━━━━━━━━\u001b[0m\u001b[37m\u001b[0m \u001b[1m0s\u001b[0m 30ms/step - accuracy: 0.7328 - loss: 0.6016 - val_accuracy: 0.8500 - val_loss: 0.5905\n",
            "Epoch 7/100\n",
            "\u001b[1m3/3\u001b[0m \u001b[32m━━━━━━━━━━━━━━━━━━━━\u001b[0m\u001b[37m\u001b[0m \u001b[1m0s\u001b[0m 35ms/step - accuracy: 0.7869 - loss: 0.5820 - val_accuracy: 0.8500 - val_loss: 0.5659\n",
            "Epoch 8/100\n",
            "\u001b[1m3/3\u001b[0m \u001b[32m━━━━━━━━━━━━━━━━━━━━\u001b[0m\u001b[37m\u001b[0m \u001b[1m0s\u001b[0m 25ms/step - accuracy: 0.8113 - loss: 0.5568 - val_accuracy: 0.8500 - val_loss: 0.5428\n",
            "Epoch 9/100\n",
            "\u001b[1m3/3\u001b[0m \u001b[32m━━━━━━━━━━━━━━━━━━━━\u001b[0m\u001b[37m\u001b[0m \u001b[1m0s\u001b[0m 43ms/step - accuracy: 0.8176 - loss: 0.5436 - val_accuracy: 0.8500 - val_loss: 0.5212\n",
            "Epoch 10/100\n",
            "\u001b[1m3/3\u001b[0m \u001b[32m━━━━━━━━━━━━━━━━━━━━\u001b[0m\u001b[37m\u001b[0m \u001b[1m0s\u001b[0m 34ms/step - accuracy: 0.8357 - loss: 0.5271 - val_accuracy: 0.8500 - val_loss: 0.5006\n",
            "Epoch 11/100\n",
            "\u001b[1m3/3\u001b[0m \u001b[32m━━━━━━━━━━━━━━━━━━━━\u001b[0m\u001b[37m\u001b[0m \u001b[1m0s\u001b[0m 18ms/step - accuracy: 0.8201 - loss: 0.5200 - val_accuracy: 0.8500 - val_loss: 0.4811\n",
            "Epoch 12/100\n",
            "\u001b[1m3/3\u001b[0m \u001b[32m━━━━━━━━━━━━━━━━━━━━\u001b[0m\u001b[37m\u001b[0m \u001b[1m0s\u001b[0m 18ms/step - accuracy: 0.8303 - loss: 0.5144 - val_accuracy: 0.8500 - val_loss: 0.4628\n",
            "Epoch 13/100\n",
            "\u001b[1m3/3\u001b[0m \u001b[32m━━━━━━━━━━━━━━━━━━━━\u001b[0m\u001b[37m\u001b[0m \u001b[1m0s\u001b[0m 18ms/step - accuracy: 0.8357 - loss: 0.4929 - val_accuracy: 0.8500 - val_loss: 0.4456\n",
            "Epoch 14/100\n",
            "\u001b[1m3/3\u001b[0m \u001b[32m━━━━━━━━━━━━━━━━━━━━\u001b[0m\u001b[37m\u001b[0m \u001b[1m0s\u001b[0m 17ms/step - accuracy: 0.8435 - loss: 0.4755 - val_accuracy: 0.8500 - val_loss: 0.4300\n",
            "Epoch 15/100\n",
            "\u001b[1m3/3\u001b[0m \u001b[32m━━━━━━━━━━━━━━━━━━━━\u001b[0m\u001b[37m\u001b[0m \u001b[1m0s\u001b[0m 18ms/step - accuracy: 0.8318 - loss: 0.4725 - val_accuracy: 0.8500 - val_loss: 0.4153\n",
            "Epoch 16/100\n",
            "\u001b[1m3/3\u001b[0m \u001b[32m━━━━━━━━━━━━━━━━━━━━\u001b[0m\u001b[37m\u001b[0m \u001b[1m0s\u001b[0m 18ms/step - accuracy: 0.8123 - loss: 0.4799 - val_accuracy: 0.8500 - val_loss: 0.4017\n",
            "Epoch 17/100\n",
            "\u001b[1m3/3\u001b[0m \u001b[32m━━━━━━━━━━━━━━━━━━━━\u001b[0m\u001b[37m\u001b[0m \u001b[1m0s\u001b[0m 21ms/step - accuracy: 0.8396 - loss: 0.4514 - val_accuracy: 0.8500 - val_loss: 0.3886\n",
            "Epoch 18/100\n",
            "\u001b[1m3/3\u001b[0m \u001b[32m━━━━━━━━━━━━━━━━━━━━\u001b[0m\u001b[37m\u001b[0m \u001b[1m0s\u001b[0m 24ms/step - accuracy: 0.8123 - loss: 0.4599 - val_accuracy: 0.8500 - val_loss: 0.3769\n",
            "Epoch 19/100\n",
            "\u001b[1m3/3\u001b[0m \u001b[32m━━━━━━━━━━━━━━━━━━━━\u001b[0m\u001b[37m\u001b[0m \u001b[1m0s\u001b[0m 17ms/step - accuracy: 0.8498 - loss: 0.4287 - val_accuracy: 0.8500 - val_loss: 0.3662\n",
            "Epoch 20/100\n",
            "\u001b[1m3/3\u001b[0m \u001b[32m━━━━━━━━━━━━━━━━━━━━\u001b[0m\u001b[37m\u001b[0m \u001b[1m0s\u001b[0m 18ms/step - accuracy: 0.8342 - loss: 0.4354 - val_accuracy: 0.8500 - val_loss: 0.3572\n",
            "Epoch 21/100\n",
            "\u001b[1m3/3\u001b[0m \u001b[32m━━━━━━━━━━━━━━━━━━━━\u001b[0m\u001b[37m\u001b[0m \u001b[1m0s\u001b[0m 18ms/step - accuracy: 0.8459 - loss: 0.4245 - val_accuracy: 0.8500 - val_loss: 0.3484\n",
            "Epoch 22/100\n",
            "\u001b[1m3/3\u001b[0m \u001b[32m━━━━━━━━━━━━━━━━━━━━\u001b[0m\u001b[37m\u001b[0m \u001b[1m0s\u001b[0m 18ms/step - accuracy: 0.8264 - loss: 0.4525 - val_accuracy: 0.8500 - val_loss: 0.3406\n",
            "Epoch 23/100\n",
            "\u001b[1m3/3\u001b[0m \u001b[32m━━━━━━━━━━━━━━━━━━━━\u001b[0m\u001b[37m\u001b[0m \u001b[1m0s\u001b[0m 18ms/step - accuracy: 0.8264 - loss: 0.4260 - val_accuracy: 0.8500 - val_loss: 0.3331\n",
            "Epoch 24/100\n",
            "\u001b[1m3/3\u001b[0m \u001b[32m━━━━━━━━━━━━━━━━━━━━\u001b[0m\u001b[37m\u001b[0m \u001b[1m0s\u001b[0m 17ms/step - accuracy: 0.8498 - loss: 0.4096 - val_accuracy: 0.8500 - val_loss: 0.3262\n",
            "Epoch 25/100\n",
            "\u001b[1m3/3\u001b[0m \u001b[32m━━━━━━━━━━━━━━━━━━━━\u001b[0m\u001b[37m\u001b[0m \u001b[1m0s\u001b[0m 18ms/step - accuracy: 0.8498 - loss: 0.4136 - val_accuracy: 0.8500 - val_loss: 0.3202\n",
            "Epoch 26/100\n",
            "\u001b[1m3/3\u001b[0m \u001b[32m━━━━━━━━━━━━━━━━━━━━\u001b[0m\u001b[37m\u001b[0m \u001b[1m0s\u001b[0m 27ms/step - accuracy: 0.8655 - loss: 0.3917 - val_accuracy: 0.8500 - val_loss: 0.3149\n",
            "Epoch 27/100\n",
            "\u001b[1m3/3\u001b[0m \u001b[32m━━━━━━━━━━━━━━━━━━━━\u001b[0m\u001b[37m\u001b[0m \u001b[1m0s\u001b[0m 22ms/step - accuracy: 0.8342 - loss: 0.4201 - val_accuracy: 0.8500 - val_loss: 0.3098\n",
            "Epoch 28/100\n",
            "\u001b[1m3/3\u001b[0m \u001b[32m━━━━━━━━━━━━━━━━━━━━\u001b[0m\u001b[37m\u001b[0m \u001b[1m0s\u001b[0m 18ms/step - accuracy: 0.8537 - loss: 0.4039 - val_accuracy: 0.8500 - val_loss: 0.3051\n",
            "Epoch 29/100\n",
            "\u001b[1m3/3\u001b[0m \u001b[32m━━━━━━━━━━━━━━━━━━━━\u001b[0m\u001b[37m\u001b[0m \u001b[1m0s\u001b[0m 18ms/step - accuracy: 0.8303 - loss: 0.4174 - val_accuracy: 0.8500 - val_loss: 0.3013\n",
            "Epoch 30/100\n",
            "\u001b[1m3/3\u001b[0m \u001b[32m━━━━━━━━━━━━━━━━━━━━\u001b[0m\u001b[37m\u001b[0m \u001b[1m0s\u001b[0m 17ms/step - accuracy: 0.8850 - loss: 0.3524 - val_accuracy: 0.8500 - val_loss: 0.2975\n",
            "Epoch 31/100\n",
            "\u001b[1m3/3\u001b[0m \u001b[32m━━━━━━━━━━━━━━━━━━━━\u001b[0m\u001b[37m\u001b[0m \u001b[1m0s\u001b[0m 17ms/step - accuracy: 0.8537 - loss: 0.3795 - val_accuracy: 0.8500 - val_loss: 0.2947\n",
            "Epoch 32/100\n",
            "\u001b[1m3/3\u001b[0m \u001b[32m━━━━━━━━━━━━━━━━━━━━\u001b[0m\u001b[37m\u001b[0m \u001b[1m0s\u001b[0m 17ms/step - accuracy: 0.8381 - loss: 0.3971 - val_accuracy: 0.8500 - val_loss: 0.2919\n",
            "Epoch 33/100\n",
            "\u001b[1m3/3\u001b[0m \u001b[32m━━━━━━━━━━━━━━━━━━━━\u001b[0m\u001b[37m\u001b[0m \u001b[1m0s\u001b[0m 17ms/step - accuracy: 0.8498 - loss: 0.3800 - val_accuracy: 0.8500 - val_loss: 0.2897\n",
            "Epoch 34/100\n",
            "\u001b[1m3/3\u001b[0m \u001b[32m━━━━━━━━━━━━━━━━━━━━\u001b[0m\u001b[37m\u001b[0m \u001b[1m0s\u001b[0m 18ms/step - accuracy: 0.8420 - loss: 0.3858 - val_accuracy: 0.8500 - val_loss: 0.2877\n",
            "Epoch 35/100\n",
            "\u001b[1m3/3\u001b[0m \u001b[32m━━━━━━━━━━━━━━━━━━━━\u001b[0m\u001b[37m\u001b[0m \u001b[1m0s\u001b[0m 17ms/step - accuracy: 0.8655 - loss: 0.3717 - val_accuracy: 0.8500 - val_loss: 0.2856\n",
            "Epoch 36/100\n",
            "\u001b[1m3/3\u001b[0m \u001b[32m━━━━━━━━━━━━━━━━━━━━\u001b[0m\u001b[37m\u001b[0m \u001b[1m0s\u001b[0m 17ms/step - accuracy: 0.8694 - loss: 0.3627 - val_accuracy: 0.8500 - val_loss: 0.2842\n",
            "Epoch 37/100\n",
            "\u001b[1m3/3\u001b[0m \u001b[32m━━━━━━━━━━━━━━━━━━━━\u001b[0m\u001b[37m\u001b[0m \u001b[1m0s\u001b[0m 24ms/step - accuracy: 0.8576 - loss: 0.3870 - val_accuracy: 0.8500 - val_loss: 0.2828\n",
            "Epoch 38/100\n",
            "\u001b[1m3/3\u001b[0m \u001b[32m━━━━━━━━━━━━━━━━━━━━\u001b[0m\u001b[37m\u001b[0m \u001b[1m0s\u001b[0m 19ms/step - accuracy: 0.8342 - loss: 0.4005 - val_accuracy: 0.8500 - val_loss: 0.2815\n",
            "Epoch 39/100\n",
            "\u001b[1m3/3\u001b[0m \u001b[32m━━━━━━━━━━━━━━━━━━━━\u001b[0m\u001b[37m\u001b[0m \u001b[1m0s\u001b[0m 33ms/step - accuracy: 0.8342 - loss: 0.4076 - val_accuracy: 0.8500 - val_loss: 0.2803\n",
            "Epoch 40/100\n",
            "\u001b[1m3/3\u001b[0m \u001b[32m━━━━━━━━━━━━━━━━━━━━\u001b[0m\u001b[37m\u001b[0m \u001b[1m0s\u001b[0m 31ms/step - accuracy: 0.8616 - loss: 0.3656 - val_accuracy: 0.8500 - val_loss: 0.2789\n",
            "Epoch 41/100\n",
            "\u001b[1m3/3\u001b[0m \u001b[32m━━━━━━━━━━━━━━━━━━━━\u001b[0m\u001b[37m\u001b[0m \u001b[1m0s\u001b[0m 18ms/step - accuracy: 0.8498 - loss: 0.3754 - val_accuracy: 0.8500 - val_loss: 0.2780\n",
            "Epoch 42/100\n",
            "\u001b[1m3/3\u001b[0m \u001b[32m━━━━━━━━━━━━━━━━━━━━\u001b[0m\u001b[37m\u001b[0m \u001b[1m0s\u001b[0m 17ms/step - accuracy: 0.8576 - loss: 0.3665 - val_accuracy: 0.8500 - val_loss: 0.2770\n",
            "Epoch 43/100\n",
            "\u001b[1m3/3\u001b[0m \u001b[32m━━━━━━━━━━━━━━━━━━━━\u001b[0m\u001b[37m\u001b[0m \u001b[1m0s\u001b[0m 18ms/step - accuracy: 0.8537 - loss: 0.3879 - val_accuracy: 0.8500 - val_loss: 0.2763\n",
            "Epoch 44/100\n",
            "\u001b[1m3/3\u001b[0m \u001b[32m━━━━━━━━━━━━━━━━━━━━\u001b[0m\u001b[37m\u001b[0m \u001b[1m0s\u001b[0m 17ms/step - accuracy: 0.8342 - loss: 0.4022 - val_accuracy: 0.8500 - val_loss: 0.2756\n",
            "Epoch 45/100\n",
            "\u001b[1m3/3\u001b[0m \u001b[32m━━━━━━━━━━━━━━━━━━━━\u001b[0m\u001b[37m\u001b[0m \u001b[1m0s\u001b[0m 18ms/step - accuracy: 0.8537 - loss: 0.3702 - val_accuracy: 0.8500 - val_loss: 0.2747\n",
            "Epoch 46/100\n",
            "\u001b[1m3/3\u001b[0m \u001b[32m━━━━━━━━━━━━━━━━━━━━\u001b[0m\u001b[37m\u001b[0m \u001b[1m0s\u001b[0m 18ms/step - accuracy: 0.8459 - loss: 0.3769 - val_accuracy: 0.8500 - val_loss: 0.2745\n",
            "Epoch 47/100\n",
            "\u001b[1m3/3\u001b[0m \u001b[32m━━━━━━━━━━━━━━━━━━━━\u001b[0m\u001b[37m\u001b[0m \u001b[1m0s\u001b[0m 18ms/step - accuracy: 0.8459 - loss: 0.3916 - val_accuracy: 0.8500 - val_loss: 0.2741\n",
            "Epoch 48/100\n",
            "\u001b[1m3/3\u001b[0m \u001b[32m━━━━━━━━━━━━━━━━━━━━\u001b[0m\u001b[37m\u001b[0m \u001b[1m0s\u001b[0m 18ms/step - accuracy: 0.8225 - loss: 0.4079 - val_accuracy: 0.8500 - val_loss: 0.2736\n",
            "Epoch 49/100\n",
            "\u001b[1m3/3\u001b[0m \u001b[32m━━━━━━━━━━━━━━━━━━━━\u001b[0m\u001b[37m\u001b[0m \u001b[1m0s\u001b[0m 21ms/step - accuracy: 0.8498 - loss: 0.3651 - val_accuracy: 0.9000 - val_loss: 0.2734\n",
            "Epoch 50/100\n",
            "\u001b[1m3/3\u001b[0m \u001b[32m━━━━━━━━━━━━━━━━━━━━\u001b[0m\u001b[37m\u001b[0m \u001b[1m0s\u001b[0m 22ms/step - accuracy: 0.8576 - loss: 0.3766 - val_accuracy: 0.9000 - val_loss: 0.2728\n",
            "Epoch 51/100\n",
            "\u001b[1m3/3\u001b[0m \u001b[32m━━━━━━━━━━━━━━━━━━━━\u001b[0m\u001b[37m\u001b[0m \u001b[1m0s\u001b[0m 21ms/step - accuracy: 0.8718 - loss: 0.3559 - val_accuracy: 0.9000 - val_loss: 0.2725\n",
            "Epoch 52/100\n",
            "\u001b[1m3/3\u001b[0m \u001b[32m━━━━━━━━━━━━━━━━━━━━\u001b[0m\u001b[37m\u001b[0m \u001b[1m0s\u001b[0m 17ms/step - accuracy: 0.8523 - loss: 0.3925 - val_accuracy: 0.9000 - val_loss: 0.2729\n",
            "Epoch 53/100\n",
            "\u001b[1m3/3\u001b[0m \u001b[32m━━━━━━━━━━━━━━━━━━━━\u001b[0m\u001b[37m\u001b[0m \u001b[1m0s\u001b[0m 18ms/step - accuracy: 0.8562 - loss: 0.4011 - val_accuracy: 0.9000 - val_loss: 0.2727\n",
            "Epoch 54/100\n",
            "\u001b[1m3/3\u001b[0m \u001b[32m━━━━━━━━━━━━━━━━━━━━\u001b[0m\u001b[37m\u001b[0m \u001b[1m0s\u001b[0m 18ms/step - accuracy: 0.8405 - loss: 0.4006 - val_accuracy: 0.9000 - val_loss: 0.2719\n",
            "Epoch 55/100\n",
            "\u001b[1m3/3\u001b[0m \u001b[32m━━━━━━━━━━━━━━━━━━━━\u001b[0m\u001b[37m\u001b[0m \u001b[1m0s\u001b[0m 18ms/step - accuracy: 0.8366 - loss: 0.4134 - val_accuracy: 0.9000 - val_loss: 0.2713\n",
            "Epoch 56/100\n",
            "\u001b[1m3/3\u001b[0m \u001b[32m━━━━━━━━━━━━━━━━━━━━\u001b[0m\u001b[37m\u001b[0m \u001b[1m0s\u001b[0m 17ms/step - accuracy: 0.8718 - loss: 0.3589 - val_accuracy: 0.9000 - val_loss: 0.2698\n",
            "Epoch 57/100\n",
            "\u001b[1m3/3\u001b[0m \u001b[32m━━━━━━━━━━━━━━━━━━━━\u001b[0m\u001b[37m\u001b[0m \u001b[1m0s\u001b[0m 18ms/step - accuracy: 0.8562 - loss: 0.3931 - val_accuracy: 0.9000 - val_loss: 0.2686\n",
            "Epoch 58/100\n",
            "\u001b[1m3/3\u001b[0m \u001b[32m━━━━━━━━━━━━━━━━━━━━\u001b[0m\u001b[37m\u001b[0m \u001b[1m0s\u001b[0m 18ms/step - accuracy: 0.8576 - loss: 0.3582 - val_accuracy: 0.9000 - val_loss: 0.2673\n",
            "Epoch 59/100\n",
            "\u001b[1m3/3\u001b[0m \u001b[32m━━━━━━━━━━━━━━━━━━━━\u001b[0m\u001b[37m\u001b[0m \u001b[1m0s\u001b[0m 18ms/step - accuracy: 0.8498 - loss: 0.3814 - val_accuracy: 0.9000 - val_loss: 0.2664\n",
            "Epoch 60/100\n",
            "\u001b[1m3/3\u001b[0m \u001b[32m━━━━━━━━━━━━━━━━━━━━\u001b[0m\u001b[37m\u001b[0m \u001b[1m0s\u001b[0m 18ms/step - accuracy: 0.8694 - loss: 0.3607 - val_accuracy: 0.9000 - val_loss: 0.2650\n",
            "Epoch 61/100\n",
            "\u001b[1m3/3\u001b[0m \u001b[32m━━━━━━━━━━━━━━━━━━━━\u001b[0m\u001b[37m\u001b[0m \u001b[1m0s\u001b[0m 30ms/step - accuracy: 0.8225 - loss: 0.4154 - val_accuracy: 0.9000 - val_loss: 0.2648\n",
            "Epoch 62/100\n",
            "\u001b[1m3/3\u001b[0m \u001b[32m━━━━━━━━━━━━━━━━━━━━\u001b[0m\u001b[37m\u001b[0m \u001b[1m0s\u001b[0m 23ms/step - accuracy: 0.8186 - loss: 0.4440 - val_accuracy: 0.9000 - val_loss: 0.2646\n",
            "Epoch 63/100\n",
            "\u001b[1m3/3\u001b[0m \u001b[32m━━━━━━━━━━━━━━━━━━━━\u001b[0m\u001b[37m\u001b[0m \u001b[1m0s\u001b[0m 22ms/step - accuracy: 0.8459 - loss: 0.3849 - val_accuracy: 0.9000 - val_loss: 0.2645\n",
            "Epoch 64/100\n",
            "\u001b[1m3/3\u001b[0m \u001b[32m━━━━━━━━━━━━━━━━━━━━\u001b[0m\u001b[37m\u001b[0m \u001b[1m0s\u001b[0m 18ms/step - accuracy: 0.8757 - loss: 0.3642 - val_accuracy: 0.9000 - val_loss: 0.2635\n",
            "Epoch 65/100\n",
            "\u001b[1m3/3\u001b[0m \u001b[32m━━━━━━━━━━━━━━━━━━━━\u001b[0m\u001b[37m\u001b[0m \u001b[1m0s\u001b[0m 18ms/step - accuracy: 0.8405 - loss: 0.4035 - val_accuracy: 0.9000 - val_loss: 0.2631\n",
            "Epoch 66/100\n",
            "\u001b[1m3/3\u001b[0m \u001b[32m━━━━━━━━━━━━━━━━━━━━\u001b[0m\u001b[37m\u001b[0m \u001b[1m0s\u001b[0m 18ms/step - accuracy: 0.8444 - loss: 0.4055 - val_accuracy: 0.9000 - val_loss: 0.2626\n",
            "Epoch 67/100\n",
            "\u001b[1m3/3\u001b[0m \u001b[32m━━━━━━━━━━━━━━━━━━━━\u001b[0m\u001b[37m\u001b[0m \u001b[1m0s\u001b[0m 18ms/step - accuracy: 0.8913 - loss: 0.3288 - val_accuracy: 0.9000 - val_loss: 0.2626\n",
            "Epoch 68/100\n",
            "\u001b[1m3/3\u001b[0m \u001b[32m━━━━━━━━━━━━━━━━━━━━\u001b[0m\u001b[37m\u001b[0m \u001b[1m0s\u001b[0m 19ms/step - accuracy: 0.8796 - loss: 0.3431 - val_accuracy: 0.9000 - val_loss: 0.2633\n",
            "Epoch 69/100\n",
            "\u001b[1m3/3\u001b[0m \u001b[32m━━━━━━━━━━━━━━━━━━━━\u001b[0m\u001b[37m\u001b[0m \u001b[1m0s\u001b[0m 18ms/step - accuracy: 0.8523 - loss: 0.3926 - val_accuracy: 0.9000 - val_loss: 0.2648\n",
            "Epoch 70/100\n",
            "\u001b[1m3/3\u001b[0m \u001b[32m━━━━━━━━━━━━━━━━━━━━\u001b[0m\u001b[37m\u001b[0m \u001b[1m0s\u001b[0m 18ms/step - accuracy: 0.8679 - loss: 0.3636 - val_accuracy: 0.9000 - val_loss: 0.2648\n",
            "Epoch 71/100\n",
            "\u001b[1m3/3\u001b[0m \u001b[32m━━━━━━━━━━━━━━━━━━━━\u001b[0m\u001b[37m\u001b[0m \u001b[1m0s\u001b[0m 18ms/step - accuracy: 0.8562 - loss: 0.3800 - val_accuracy: 0.9000 - val_loss: 0.2649\n",
            "Epoch 72/100\n",
            "\u001b[1m3/3\u001b[0m \u001b[32m━━━━━━━━━━━━━━━━━━━━\u001b[0m\u001b[37m\u001b[0m \u001b[1m0s\u001b[0m 19ms/step - accuracy: 0.8483 - loss: 0.3961 - val_accuracy: 0.9000 - val_loss: 0.2649\n",
            "Epoch 73/100\n",
            "\u001b[1m3/3\u001b[0m \u001b[32m━━━━━━━━━━━━━━━━━━━━\u001b[0m\u001b[37m\u001b[0m \u001b[1m0s\u001b[0m 22ms/step - accuracy: 0.8576 - loss: 0.3518 - val_accuracy: 0.9000 - val_loss: 0.2650\n",
            "Epoch 74/100\n",
            "\u001b[1m3/3\u001b[0m \u001b[32m━━━━━━━━━━━━━━━━━━━━\u001b[0m\u001b[37m\u001b[0m \u001b[1m0s\u001b[0m 20ms/step - accuracy: 0.8616 - loss: 0.3599 - val_accuracy: 0.9000 - val_loss: 0.2652\n",
            "Epoch 75/100\n",
            "\u001b[1m3/3\u001b[0m \u001b[32m━━━━━━━━━━━━━━━━━━━━\u001b[0m\u001b[37m\u001b[0m \u001b[1m0s\u001b[0m 17ms/step - accuracy: 0.8264 - loss: 0.4036 - val_accuracy: 0.9000 - val_loss: 0.2654\n",
            "Epoch 76/100\n",
            "\u001b[1m3/3\u001b[0m \u001b[32m━━━━━━━━━━━━━━━━━━━━\u001b[0m\u001b[37m\u001b[0m \u001b[1m0s\u001b[0m 17ms/step - accuracy: 0.8694 - loss: 0.3488 - val_accuracy: 0.9000 - val_loss: 0.2656\n",
            "Epoch 77/100\n",
            "\u001b[1m3/3\u001b[0m \u001b[32m━━━━━━━━━━━━━━━━━━━━\u001b[0m\u001b[37m\u001b[0m \u001b[1m0s\u001b[0m 17ms/step - accuracy: 0.8523 - loss: 0.3824 - val_accuracy: 0.9000 - val_loss: 0.2664\n",
            "Epoch 78/100\n",
            "\u001b[1m3/3\u001b[0m \u001b[32m━━━━━━━━━━━━━━━━━━━━\u001b[0m\u001b[37m\u001b[0m \u001b[1m0s\u001b[0m 17ms/step - accuracy: 0.8523 - loss: 0.3998 - val_accuracy: 0.9000 - val_loss: 0.2663\n",
            "Epoch 79/100\n",
            "\u001b[1m3/3\u001b[0m \u001b[32m━━━━━━━━━━━━━━━━━━━━\u001b[0m\u001b[37m\u001b[0m \u001b[1m0s\u001b[0m 17ms/step - accuracy: 0.8288 - loss: 0.4282 - val_accuracy: 0.9000 - val_loss: 0.2662\n",
            "Epoch 80/100\n",
            "\u001b[1m3/3\u001b[0m \u001b[32m━━━━━━━━━━━━━━━━━━━━\u001b[0m\u001b[37m\u001b[0m \u001b[1m0s\u001b[0m 18ms/step - accuracy: 0.8537 - loss: 0.3688 - val_accuracy: 0.9000 - val_loss: 0.2657\n",
            "Epoch 81/100\n",
            "\u001b[1m3/3\u001b[0m \u001b[32m━━━━━━━━━━━━━━━━━━━━\u001b[0m\u001b[37m\u001b[0m \u001b[1m0s\u001b[0m 20ms/step - accuracy: 0.8498 - loss: 0.3889 - val_accuracy: 0.9000 - val_loss: 0.2652\n",
            "Epoch 82/100\n",
            "\u001b[1m3/3\u001b[0m \u001b[32m━━━━━━━━━━━━━━━━━━━━\u001b[0m\u001b[37m\u001b[0m \u001b[1m0s\u001b[0m 18ms/step - accuracy: 0.8616 - loss: 0.3608 - val_accuracy: 0.9000 - val_loss: 0.2648\n",
            "Epoch 83/100\n",
            "\u001b[1m3/3\u001b[0m \u001b[32m━━━━━━━━━━━━━━━━━━━━\u001b[0m\u001b[37m\u001b[0m \u001b[1m0s\u001b[0m 18ms/step - accuracy: 0.8420 - loss: 0.3832 - val_accuracy: 0.9000 - val_loss: 0.2643\n",
            "Epoch 84/100\n",
            "\u001b[1m3/3\u001b[0m \u001b[32m━━━━━━━━━━━━━━━━━━━━\u001b[0m\u001b[37m\u001b[0m \u001b[1m0s\u001b[0m 18ms/step - accuracy: 0.8420 - loss: 0.3775 - val_accuracy: 0.9000 - val_loss: 0.2634\n",
            "Epoch 85/100\n",
            "\u001b[1m3/3\u001b[0m \u001b[32m━━━━━━━━━━━━━━━━━━━━\u001b[0m\u001b[37m\u001b[0m \u001b[1m0s\u001b[0m 20ms/step - accuracy: 0.8537 - loss: 0.3616 - val_accuracy: 0.9000 - val_loss: 0.2633\n",
            "Epoch 86/100\n",
            "\u001b[1m3/3\u001b[0m \u001b[32m━━━━━━━━━━━━━━━━━━━━\u001b[0m\u001b[37m\u001b[0m \u001b[1m0s\u001b[0m 28ms/step - accuracy: 0.8420 - loss: 0.3866 - val_accuracy: 0.9000 - val_loss: 0.2629\n",
            "Epoch 87/100\n",
            "\u001b[1m3/3\u001b[0m \u001b[32m━━━━━━━━━━━━━━━━━━━━\u001b[0m\u001b[37m\u001b[0m \u001b[1m0s\u001b[0m 21ms/step - accuracy: 0.8733 - loss: 0.3264 - val_accuracy: 0.9000 - val_loss: 0.2624\n",
            "Epoch 88/100\n",
            "\u001b[1m3/3\u001b[0m \u001b[32m━━━━━━━━━━━━━━━━━━━━\u001b[0m\u001b[37m\u001b[0m \u001b[1m0s\u001b[0m 18ms/step - accuracy: 0.8264 - loss: 0.4020 - val_accuracy: 0.9000 - val_loss: 0.2632\n",
            "Epoch 89/100\n",
            "\u001b[1m3/3\u001b[0m \u001b[32m━━━━━━━━━━━━━━━━━━━━\u001b[0m\u001b[37m\u001b[0m \u001b[1m0s\u001b[0m 17ms/step - accuracy: 0.8616 - loss: 0.3337 - val_accuracy: 0.9000 - val_loss: 0.2637\n",
            "Epoch 90/100\n",
            "\u001b[1m3/3\u001b[0m \u001b[32m━━━━━━━━━━━━━━━━━━━━\u001b[0m\u001b[37m\u001b[0m \u001b[1m0s\u001b[0m 19ms/step - accuracy: 0.8366 - loss: 0.4078 - val_accuracy: 0.9000 - val_loss: 0.2644\n",
            "Epoch 91/100\n",
            "\u001b[1m3/3\u001b[0m \u001b[32m━━━━━━━━━━━━━━━━━━━━\u001b[0m\u001b[37m\u001b[0m \u001b[1m0s\u001b[0m 18ms/step - accuracy: 0.8679 - loss: 0.3512 - val_accuracy: 0.9000 - val_loss: 0.2647\n",
            "Epoch 92/100\n",
            "\u001b[1m3/3\u001b[0m \u001b[32m━━━━━━━━━━━━━━━━━━━━\u001b[0m\u001b[37m\u001b[0m \u001b[1m0s\u001b[0m 17ms/step - accuracy: 0.8718 - loss: 0.3574 - val_accuracy: 0.9000 - val_loss: 0.2655\n",
            "Epoch 93/100\n",
            "\u001b[1m3/3\u001b[0m \u001b[32m━━━━━━━━━━━━━━━━━━━━\u001b[0m\u001b[37m\u001b[0m \u001b[1m0s\u001b[0m 19ms/step - accuracy: 0.8523 - loss: 0.3827 - val_accuracy: 0.9000 - val_loss: 0.2665\n",
            "Epoch 94/100\n",
            "\u001b[1m3/3\u001b[0m \u001b[32m━━━━━━━━━━━━━━━━━━━━\u001b[0m\u001b[37m\u001b[0m \u001b[1m0s\u001b[0m 20ms/step - accuracy: 0.8796 - loss: 0.3390 - val_accuracy: 0.9000 - val_loss: 0.2662\n",
            "Epoch 95/100\n",
            "\u001b[1m3/3\u001b[0m \u001b[32m━━━━━━━━━━━━━━━━━━━━\u001b[0m\u001b[37m\u001b[0m \u001b[1m0s\u001b[0m 21ms/step - accuracy: 0.8679 - loss: 0.3644 - val_accuracy: 0.9000 - val_loss: 0.2662\n",
            "Epoch 96/100\n",
            "\u001b[1m3/3\u001b[0m \u001b[32m━━━━━━━━━━━━━━━━━━━━\u001b[0m\u001b[37m\u001b[0m \u001b[1m0s\u001b[0m 38ms/step - accuracy: 0.8444 - loss: 0.4097 - val_accuracy: 0.9000 - val_loss: 0.2668\n",
            "Epoch 97/100\n",
            "\u001b[1m3/3\u001b[0m \u001b[32m━━━━━━━━━━━━━━━━━━━━\u001b[0m\u001b[37m\u001b[0m \u001b[1m0s\u001b[0m 32ms/step - accuracy: 0.8835 - loss: 0.3227 - val_accuracy: 0.9000 - val_loss: 0.2667\n",
            "Epoch 98/100\n",
            "\u001b[1m3/3\u001b[0m \u001b[32m━━━━━━━━━━━━━━━━━━━━\u001b[0m\u001b[37m\u001b[0m \u001b[1m0s\u001b[0m 23ms/step - accuracy: 0.8718 - loss: 0.3605 - val_accuracy: 0.9000 - val_loss: 0.2678\n",
            "Epoch 99/100\n",
            "\u001b[1m3/3\u001b[0m \u001b[32m━━━━━━━━━━━━━━━━━━━━\u001b[0m\u001b[37m\u001b[0m \u001b[1m0s\u001b[0m 20ms/step - accuracy: 0.8679 - loss: 0.3551 - val_accuracy: 0.9000 - val_loss: 0.2679\n",
            "Epoch 100/100\n",
            "\u001b[1m3/3\u001b[0m \u001b[32m━━━━━━━━━━━━━━━━━━━━\u001b[0m\u001b[37m\u001b[0m \u001b[1m0s\u001b[0m 23ms/step - accuracy: 0.8640 - loss: 0.3449 - val_accuracy: 0.9000 - val_loss: 0.2676\n"
          ]
        }
      ]
    },
    {
      "cell_type": "code",
      "source": [
        "from mlxtend.plotting import plot_decision_regions\n",
        "plot_decision_regions(X,y.astype('int'), clf=model, legend=2)"
      ],
      "metadata": {
        "colab": {
          "base_uri": "https://localhost:8080/",
          "height": 465
        },
        "id": "1n1OQgvLMuP2",
        "outputId": "ef743d3e-612e-4fd2-b50c-92bffa476cf5"
      },
      "execution_count": null,
      "outputs": [
        {
          "output_type": "stream",
          "name": "stdout",
          "text": [
            "\u001b[1m9600/9600\u001b[0m \u001b[32m━━━━━━━━━━━━━━━━━━━━\u001b[0m\u001b[37m\u001b[0m \u001b[1m17s\u001b[0m 2ms/step\n"
          ]
        },
        {
          "output_type": "execute_result",
          "data": {
            "text/plain": [
              "<Axes: >"
            ]
          },
          "metadata": {},
          "execution_count": 41
        },
        {
          "output_type": "display_data",
          "data": {
            "text/plain": [
              "<Figure size 640x480 with 1 Axes>"
            ],
            "image/png": "[encoded data removed]"
          },
          "metadata": {}
        }
      ]
    },
    {
      "cell_type": "code",
      "source": [],
      "metadata": {
        "id": "StxGi97BMuU9"
      },
      "execution_count": null,
      "outputs": []
    },
    {
      "cell_type": "code",
      "source": [],
      "metadata": {
        "id": "gjSyV1xNMuXf"
      },
      "execution_count": null,
      "outputs": []
    },
    {
      "cell_type": "code",
      "source": [],
      "metadata": {
        "id": "SvwSdkeBMuab"
      },
      "execution_count": null,
      "outputs": []
    },
    {
      "cell_type": "code",
      "source": [],
      "metadata": {
        "id": "To15rikqMucx"
      },
      "execution_count": null,
      "outputs": []
    },
    {
      "cell_type": "code",
      "source": [],
      "metadata": {
        "id": "lAfc4HGaMufl"
      },
      "execution_count": null,
      "outputs": []
    },
    {
      "cell_type": "code",
      "source": [],
      "metadata": {
        "id": "FRQ_Ch4jMuib"
      },
      "execution_count": null,
      "outputs": []
    },
    {
      "cell_type": "code",
      "source": [],
      "metadata": {
        "id": "AwMN3lTDMulH"
      },
      "execution_count": null,
      "outputs": []
    },
    {
      "cell_type": "code",
      "source": [],
      "metadata": {
        "id": "Q7cEe3fjMunk"
      },
      "execution_count": null,
      "outputs": []
    },
    {
      "cell_type": "code",
      "source": [],
      "metadata": {
        "id": "kseo0gD6Muqp"
      },
      "execution_count": null,
      "outputs": []
    },
    {
      "cell_type": "code",
      "source": [],
      "metadata": {
        "id": "_Nq8e1dbMutD"
      },
      "execution_count": null,
      "outputs": []
    },
    {
      "cell_type": "code",
      "source": [
        "model = Sequential()\n",
        "\n",
        "model.add(Dense(10,activation='relu',input_dim=2,kernel_initializer='he_normal'))\n",
        "model.add(Dense(10,activation='relu',kernel_initializer='he_normal'))\n",
        "model.add(Dense(10,activation='relu',kernel_initializer='he_normal'))\n",
        "model.add(Dense(10,activation='relu',kernel_initializer='he_normal'))\n",
        "model.add(Dense(1,activation='sigmoid'))\n",
        "\n",
        "model.summary()"
      ],
      "metadata": {
        "colab": {
          "base_uri": "https://localhost:8080/",
          "height": 346
        },
        "id": "id8rhK5OtzVX",
        "outputId": "579290b2-f222-4a48-ae04-0d9975103567"
      },
      "execution_count": null,
      "outputs": [
        {
          "output_type": "stream",
          "name": "stderr",
          "text": [
            "/usr/local/lib/python3.10/dist-packages/keras/src/layers/core/dense.py:87: UserWarning: Do not pass an `input_shape`/`input_dim` argument to a layer. When using Sequential models, prefer using an `Input(shape)` object as the first layer in the model instead.\n",
            "  super().__init__(activity_regularizer=activity_regularizer, **kwargs)\n"
          ]
        },
        {
          "output_type": "display_data",
          "data": {
            "text/plain": [
              "\u001b[1mModel: \"sequential\"\u001b[0m\n"
            ],
            "text/html": [
              "<pre style=\"white-space:pre;overflow-x:auto;line-height:normal;font-family:Menlo,'DejaVu Sans Mono',consolas,'Courier New',monospace\"><span style=\"font-weight: bold\">Model: \"sequential\"</span>\n",
              "</pre>\n"
            ]
          },
          "metadata": {}
        },
        {
          "output_type": "display_data",
          "data": {
            "text/plain": [
              "┏━━━━━━━━━━━━━━━━━━━━━━━━━━━━━━━━━━━━━━┳━━━━━━━━━━━━━━━━━━━━━━━━━━━━━┳━━━━━━━━━━━━━━━━━┓\n",
              "┃\u001b[1m \u001b[0m\u001b[1mLayer (type)                        \u001b[0m\u001b[1m \u001b[0m┃\u001b[1m \u001b[0m\u001b[1mOutput Shape               \u001b[0m\u001b[1m \u001b[0m┃\u001b[1m \u001b[0m\u001b[1m        Param #\u001b[0m\u001b[1m \u001b[0m┃\n",
              "┡━━━━━━━━━━━━━━━━━━━━━━━━━━━━━━━━━━━━━━╇━━━━━━━━━━━━━━━━━━━━━━━━━━━━━╇━━━━━━━━━━━━━━━━━┩\n",
              "│ dense (\u001b[38;5;33mDense\u001b[0m)                        │ (\u001b[38;5;45mNone\u001b[0m, \u001b[38;5;34m10\u001b[0m)                  │              \u001b[38;5;34m30\u001b[0m │\n",
              "├──────────────────────────────────────┼─────────────────────────────┼─────────────────┤\n",
              "│ dense_1 (\u001b[38;5;33mDense\u001b[0m)                      │ (\u001b[38;5;45mNone\u001b[0m, \u001b[38;5;34m10\u001b[0m)                  │             \u001b[38;5;34m110\u001b[0m │\n",
              "├──────────────────────────────────────┼─────────────────────────────┼─────────────────┤\n",
              "│ dense_2 (\u001b[38;5;33mDense\u001b[0m)                      │ (\u001b[38;5;45mNone\u001b[0m, \u001b[38;5;34m10\u001b[0m)                  │             \u001b[38;5;34m110\u001b[0m │\n",
              "├──────────────────────────────────────┼─────────────────────────────┼─────────────────┤\n",
              "│ dense_3 (\u001b[38;5;33mDense\u001b[0m)                      │ (\u001b[38;5;45mNone\u001b[0m, \u001b[38;5;34m10\u001b[0m)                  │             \u001b[38;5;34m110\u001b[0m │\n",
              "├──────────────────────────────────────┼─────────────────────────────┼─────────────────┤\n",
              "│ dense_4 (\u001b[38;5;33mDense\u001b[0m)                      │ (\u001b[38;5;45mNone\u001b[0m, \u001b[38;5;34m1\u001b[0m)                   │              \u001b[38;5;34m11\u001b[0m │\n",
              "└──────────────────────────────────────┴─────────────────────────────┴─────────────────┘\n"
            ],
            "text/html": [
              "<pre style=\"white-space:pre;overflow-x:auto;line-height:normal;font-family:Menlo,'DejaVu Sans Mono',consolas,'Courier New',monospace\">┏━━━━━━━━━━━━━━━━━━━━━━━━━━━━━━━━━━━━━━┳━━━━━━━━━━━━━━━━━━━━━━━━━━━━━┳━━━━━━━━━━━━━━━━━┓\n",
              "┃<span style=\"font-weight: bold\"> Layer (type)                         </span>┃<span style=\"font-weight: bold\"> Output Shape                </span>┃<span style=\"font-weight: bold\">         Param # </span>┃\n",
              "┡━━━━━━━━━━━━━━━━━━━━━━━━━━━━━━━━━━━━━━╇━━━━━━━━━━━━━━━━━━━━━━━━━━━━━╇━━━━━━━━━━━━━━━━━┩\n",
              "│ dense (<span style=\"color: #0087ff; text-decoration-color: #0087ff\">Dense</span>)                        │ (<span style=\"color: #00d7ff; text-decoration-color: #00d7ff\">None</span>, <span style=\"color: #00af00; text-decoration-color: #00af00\">10</span>)                  │              <span style=\"color: #00af00; text-decoration-color: #00af00\">30</span> │\n",
              "├──────────────────────────────────────┼─────────────────────────────┼─────────────────┤\n",
              "│ dense_1 (<span style=\"color: #0087ff; text-decoration-color: #0087ff\">Dense</span>)                      │ (<span style=\"color: #00d7ff; text-decoration-color: #00d7ff\">None</span>, <span style=\"color: #00af00; text-decoration-color: #00af00\">10</span>)                  │             <span style=\"color: #00af00; text-decoration-color: #00af00\">110</span> │\n",
              "├──────────────────────────────────────┼─────────────────────────────┼─────────────────┤\n",
              "│ dense_2 (<span style=\"color: #0087ff; text-decoration-color: #0087ff\">Dense</span>)                      │ (<span style=\"color: #00d7ff; text-decoration-color: #00d7ff\">None</span>, <span style=\"color: #00af00; text-decoration-color: #00af00\">10</span>)                  │             <span style=\"color: #00af00; text-decoration-color: #00af00\">110</span> │\n",
              "├──────────────────────────────────────┼─────────────────────────────┼─────────────────┤\n",
              "│ dense_3 (<span style=\"color: #0087ff; text-decoration-color: #0087ff\">Dense</span>)                      │ (<span style=\"color: #00d7ff; text-decoration-color: #00d7ff\">None</span>, <span style=\"color: #00af00; text-decoration-color: #00af00\">10</span>)                  │             <span style=\"color: #00af00; text-decoration-color: #00af00\">110</span> │\n",
              "├──────────────────────────────────────┼─────────────────────────────┼─────────────────┤\n",
              "│ dense_4 (<span style=\"color: #0087ff; text-decoration-color: #0087ff\">Dense</span>)                      │ (<span style=\"color: #00d7ff; text-decoration-color: #00d7ff\">None</span>, <span style=\"color: #00af00; text-decoration-color: #00af00\">1</span>)                   │              <span style=\"color: #00af00; text-decoration-color: #00af00\">11</span> │\n",
              "└──────────────────────────────────────┴─────────────────────────────┴─────────────────┘\n",
              "</pre>\n"
            ]
          },
          "metadata": {}
        },
        {
          "output_type": "display_data",
          "data": {
            "text/plain": [
              "\u001b[1m Total params: \u001b[0m\u001b[38;5;34m371\u001b[0m (1.45 KB)\n"
            ],
            "text/html": [
              "<pre style=\"white-space:pre;overflow-x:auto;line-height:normal;font-family:Menlo,'DejaVu Sans Mono',consolas,'Courier New',monospace\"><span style=\"font-weight: bold\"> Total params: </span><span style=\"color: #00af00; text-decoration-color: #00af00\">371</span> (1.45 KB)\n",
              "</pre>\n"
            ]
          },
          "metadata": {}
        },
        {
          "output_type": "display_data",
          "data": {
            "text/plain": [
              "\u001b[1m Trainable params: \u001b[0m\u001b[38;5;34m371\u001b[0m (1.45 KB)\n"
            ],
            "text/html": [
              "<pre style=\"white-space:pre;overflow-x:auto;line-height:normal;font-family:Menlo,'DejaVu Sans Mono',consolas,'Courier New',monospace\"><span style=\"font-weight: bold\"> Trainable params: </span><span style=\"color: #00af00; text-decoration-color: #00af00\">371</span> (1.45 KB)\n",
              "</pre>\n"
            ]
          },
          "metadata": {}
        },
        {
          "output_type": "display_data",
          "data": {
            "text/plain": [
              "\u001b[1m Non-trainable params: \u001b[0m\u001b[38;5;34m0\u001b[0m (0.00 B)\n"
            ],
            "text/html": [
              "<pre style=\"white-space:pre;overflow-x:auto;line-height:normal;font-family:Menlo,'DejaVu Sans Mono',consolas,'Courier New',monospace\"><span style=\"font-weight: bold\"> Non-trainable params: </span><span style=\"color: #00af00; text-decoration-color: #00af00\">0</span> (0.00 B)\n",
              "</pre>\n"
            ]
          },
          "metadata": {}
        }
      ]
    },
    {
      "cell_type": "code",
      "source": [
        "model.get_weights()"
      ],
      "metadata": {
        "colab": {
          "base_uri": "https://localhost:8080/"
        },
        "id": "YjST2L1qt1UP",
        "outputId": "b3fc1b3e-924f-4b2d-a2ee-bd842abd4488"
      },
      "execution_count": null,
      "outputs": [
        {
          "output_type": "execute_result",
          "data": {
            "text/plain": [
              "[array([[-0.8636745 , -0.43323654, -0.01481319, -1.5824916 , -1.0769231 ,\n",
              "          0.5987768 , -0.01998807, -0.6650523 ,  0.38257173,  2.0556877 ],\n",
              "        [-0.7277903 , -0.91808873,  0.1567649 , -1.3929363 , -0.05130646,\n",
              "          0.46492004,  1.9259233 ,  0.39144385, -0.30201632, -1.1554823 ]],\n",
              "       dtype=float32),\n",
              " array([0., 0., 0., 0., 0., 0., 0., 0., 0., 0.], dtype=float32),\n",
              " array([[ 7.0353824e-01, -3.4613770e-01, -4.7624138e-01,  6.0357034e-01,\n",
              "          1.2778085e-01, -2.0927525e-01,  1.4460082e-01,  8.1471080e-01,\n",
              "         -3.1205842e-01, -2.8295428e-01],\n",
              "        [ 5.5338681e-01,  9.3958922e-02, -1.8239471e-01, -1.6778348e-02,\n",
              "         -2.7249399e-01,  9.1495954e-02, -8.2823473e-01,  8.3221316e-01,\n",
              "         -7.1813244e-01,  9.1281794e-02],\n",
              "        [ 4.5854229e-01, -9.0244621e-01,  1.7514436e-01, -3.8436675e-04,\n",
              "          3.1206656e-01,  1.7397390e-01,  3.7194341e-02,  3.7425790e-02,\n",
              "          7.9609990e-01, -6.1560768e-01],\n",
              "        [ 5.5155402e-01,  7.1035552e-01,  8.4162965e-02, -6.9844484e-01,\n",
              "          9.6943691e-02, -6.3872330e-02, -2.0887129e-01, -3.6444411e-01,\n",
              "          5.0953662e-01, -1.5026604e-01],\n",
              "        [-2.2024894e-01, -7.0517915e-01, -6.1416388e-01,  2.3380041e-02,\n",
              "         -2.7849185e-01,  3.8985157e-01,  1.3087246e-01, -1.7810203e-01,\n",
              "          3.7767017e-01, -7.3725271e-01],\n",
              "        [ 4.1757703e-01,  5.3674793e-01,  4.1470918e-01,  4.9416617e-01,\n",
              "         -2.0221066e-01, -4.1547123e-01,  7.8499097e-01, -1.2257148e-01,\n",
              "         -2.6746967e-01, -4.1612974e-01],\n",
              "        [-1.9645730e-01, -5.0333112e-01,  7.0320117e-01, -3.5526048e-02,\n",
              "         -9.6881992e-01,  7.0798713e-01,  9.3787146e-01,  3.8290003e-01,\n",
              "         -7.6043928e-01, -1.1775510e-01],\n",
              "        [ 2.3884962e-01,  5.2031213e-01, -9.5681310e-01, -2.9698926e-01,\n",
              "         -1.7551386e-01, -8.0027169e-01, -8.2381129e-01, -7.7035224e-01,\n",
              "          1.7885156e-01,  5.8100367e-01],\n",
              "        [-2.8743517e-01, -7.4747264e-02, -2.6673102e-01, -2.5779417e-01,\n",
              "         -5.6160535e-03, -2.9639593e-01,  1.2068633e-03,  2.5141034e-02,\n",
              "          7.3823459e-02, -3.9991412e-02],\n",
              "        [ 9.7267014e-01, -7.6780224e-01,  4.2094103e-01, -3.3595991e-01,\n",
              "         -4.9245200e-01, -6.9304377e-01, -5.1687634e-01, -3.6355639e-01,\n",
              "         -9.6090716e-01, -3.6955720e-01]], dtype=float32),\n",
              " array([0., 0., 0., 0., 0., 0., 0., 0., 0., 0.], dtype=float32),\n",
              " array([[-0.26233792, -0.05935362, -0.0145968 ,  0.37722322, -0.9674794 ,\n",
              "          0.5319727 , -0.2363583 , -0.21129063, -0.53058726,  0.17467332],\n",
              "        [ 0.28490174,  0.6213527 ,  0.39044568, -0.55695707,  0.7539146 ,\n",
              "         -0.08521252, -0.05176663, -0.11142699, -0.5984252 ,  0.29322928],\n",
              "        [-0.23885238, -0.23408422, -0.2879326 , -0.09917805,  0.33505863,\n",
              "          0.44296533,  0.25628588,  0.17960979,  0.3610729 , -0.32899112],\n",
              "        [ 0.05390347, -0.04736425, -0.28051764,  0.4242748 ,  0.9254812 ,\n",
              "         -0.05093691, -0.47030833,  0.74697   ,  0.56220365,  0.759679  ],\n",
              "        [-0.7244272 , -0.08400968,  0.2715963 ,  0.02203931, -0.40994015,\n",
              "         -0.13251653, -0.03900488,  0.51585066, -0.00887347,  0.3936364 ],\n",
              "        [-0.06073336,  0.19991885, -0.39966726,  0.36299804, -0.60273534,\n",
              "          0.25125372,  0.2926605 ,  0.21020474,  0.5062656 ,  0.30743173],\n",
              "        [-0.04435845, -0.60478574,  0.4135397 , -0.5347255 ,  0.2799592 ,\n",
              "          0.39969006,  0.06854033,  0.7238549 ,  0.00559338,  0.16331345],\n",
              "        [ 0.13002186, -0.0175374 , -0.18790457,  0.89997226,  0.46171382,\n",
              "          0.5126739 , -0.05717943,  0.22643188,  0.16346787, -0.516119  ],\n",
              "        [ 0.2895292 ,  0.10972033, -0.78968245, -0.23479569,  0.34951746,\n",
              "         -0.17850785,  0.5575597 ,  0.3490021 ,  0.5972252 ,  0.35342717],\n",
              "        [ 0.24259433, -0.23761053, -0.17385188, -0.8046796 ,  0.19463675,\n",
              "          0.35644656, -0.18803172, -0.01374235,  0.39550093,  0.39172012]],\n",
              "       dtype=float32),\n",
              " array([0., 0., 0., 0., 0., 0., 0., 0., 0., 0.], dtype=float32),\n",
              " array([[ 1.0080277e+00,  3.0426538e-01,  6.4392066e-01,  1.8937585e-01,\n",
              "         -3.6545759e-01, -7.3098433e-01, -3.8429371e-01,  5.1817530e-01,\n",
              "         -1.9074911e-01, -5.6730312e-01],\n",
              "        [ 1.5128648e-01,  3.5049704e-01,  5.2571523e-01, -2.9825830e-01,\n",
              "         -4.4164249e-01,  7.5945757e-02, -2.8836381e-01, -2.4349105e-01,\n",
              "          3.4865150e-01,  7.6576896e-02],\n",
              "        [ 7.3654640e-01,  2.8494790e-01, -4.3022168e-01,  8.7339801e-01,\n",
              "         -6.6171564e-02,  2.6323470e-01,  6.8050438e-01, -7.3274177e-01,\n",
              "          8.2335043e-01,  1.4063796e-01],\n",
              "        [-5.3859234e-01, -5.0210249e-01, -1.4189616e-01, -2.6398436e-03,\n",
              "          8.4114909e-01,  3.6807182e-01, -2.0439257e-01, -1.1750552e-01,\n",
              "          1.6208515e-01,  6.6269308e-01],\n",
              "        [ 4.7893283e-01,  3.3216587e-01, -4.8256010e-01,  4.3328536e-01,\n",
              "          8.8675213e-01,  3.4225640e-01,  8.6454624e-01, -6.7628384e-01,\n",
              "          4.2100552e-02,  2.0081972e-01],\n",
              "        [-5.5796437e-02, -3.1900057e-01, -4.3277919e-01,  8.0358565e-02,\n",
              "         -3.3583283e-01,  1.8001501e-01,  3.8785890e-01, -4.0901384e-01,\n",
              "         -1.1316053e-01,  4.7557715e-02],\n",
              "        [ 7.8026921e-02, -6.4982451e-02, -1.6360699e-01,  6.1945486e-01,\n",
              "          2.2555517e-01, -4.9374804e-01, -9.4833714e-04, -1.3184257e-01,\n",
              "          2.9511636e-01,  4.7683063e-01],\n",
              "        [-2.1425365e-01, -2.8559533e-01,  2.4951468e-01, -8.3720842e-03,\n",
              "         -1.7068529e-01, -1.0952079e-01,  7.4064910e-02, -1.3191764e-01,\n",
              "          1.6529781e-01,  5.6163602e-02],\n",
              "        [-3.9523062e-01,  4.0829557e-01,  2.1538007e-01,  3.4815210e-01,\n",
              "         -6.0842848e-01,  6.4164376e-01,  9.8863706e-02,  3.6327299e-01,\n",
              "          2.4247263e-02, -8.2176471e-01],\n",
              "        [-1.4014636e-01,  2.4559195e-01, -5.3763263e-02, -3.3341968e-01,\n",
              "         -6.2106222e-01, -2.2728541e-01, -8.6160302e-02,  2.4967733e-01,\n",
              "          7.7983105e-01,  8.1233388e-01]], dtype=float32),\n",
              " array([0., 0., 0., 0., 0., 0., 0., 0., 0., 0.], dtype=float32),\n",
              " array([[-0.16884232],\n",
              "        [ 0.2403695 ],\n",
              "        [ 0.42042977],\n",
              "        [ 0.566245  ],\n",
              "        [ 0.408956  ],\n",
              "        [-0.4678069 ],\n",
              "        [ 0.44846565],\n",
              "        [ 0.26143867],\n",
              "        [ 0.65914744],\n",
              "        [ 0.14279741]], dtype=float32),\n",
              " array([0.], dtype=float32)]"
            ]
          },
          "metadata": {},
          "execution_count": 10
        }
      ]
    },
    {
      "cell_type": "code",
      "source": [
        "initial_weights = model.get_weights()"
      ],
      "metadata": {
        "id": "SNnRle4Dt4bc"
      },
      "execution_count": null,
      "outputs": []
    },
    {
      "cell_type": "code",
      "source": [
        "initial_weights[0] = np.random.randn(2,10)*np.sqrt(1/2)\n",
        "initial_weights[1] = np.zeros(model.get_weights()[1].shape)\n",
        "initial_weights[2] = np.random.randn(10,10)*np.sqrt(1/10)\n",
        "initial_weights[3] = np.zeros(model.get_weights()[3].shape)\n",
        "initial_weights[4] = np.random.randn(10,10)*np.sqrt(1/10)\n",
        "initial_weights[5] = np.zeros(model.get_weights()[5].shape)\n",
        "initial_weights[6] = np.random.randn(10,10)*np.sqrt(1/10)\n",
        "initial_weights[7] = np.zeros(model.get_weights()[7].shape)\n",
        "initial_weights[8] = np.random.randn(10,1)*np.sqrt(1/10)\n",
        "initial_weights[9] = np.zeros(model.get_weights()[9].shape)"
      ],
      "metadata": {
        "id": "T6mklkSot6GI"
      },
      "execution_count": null,
      "outputs": []
    },
    {
      "cell_type": "code",
      "source": [
        "model.set_weights(initial_weights)"
      ],
      "metadata": {
        "id": "cnoX9yK8ueEM"
      },
      "execution_count": null,
      "outputs": []
    },
    {
      "cell_type": "code",
      "source": [
        "model.get_weights()"
      ],
      "metadata": {
        "colab": {
          "base_uri": "https://localhost:8080/"
        },
        "id": "1guey_KUujTP",
        "outputId": "52e68edd-e63e-45a4-8721-33a86ad69030"
      },
      "execution_count": null,
      "outputs": [
        {
          "output_type": "execute_result",
          "data": {
            "text/plain": [
              "[array([[-1.0967396 , -1.0991676 ,  0.5495212 , -0.4098517 , -1.1491591 ,\n",
              "         -0.3127803 , -0.20032394,  0.5385136 ,  0.18131009,  1.1570481 ],\n",
              "        [ 1.0275009 , -0.7997344 ,  1.2985067 ,  0.02238794,  0.1369343 ,\n",
              "         -1.6730254 , -0.39829028,  0.52540815, -1.4757599 , -0.8051289 ]],\n",
              "       dtype=float32),\n",
              " array([0., 0., 0., 0., 0., 0., 0., 0., 0., 0.], dtype=float32),\n",
              " array([[-0.1880239 ,  0.17492624, -0.27823594,  0.12963228, -0.35003686,\n",
              "          0.11670264,  0.3345772 ,  0.05410328,  0.13910502,  0.10178837],\n",
              "        [-0.48804876,  0.38378847, -0.16009171, -0.24724883, -0.3278623 ,\n",
              "         -0.06280501, -0.12997884,  0.19745982,  0.2306213 , -0.5568872 ],\n",
              "        [-0.23254636, -0.10198813, -0.49466944,  0.2852037 ,  0.40577367,\n",
              "          0.14366896, -0.5083697 ,  0.3502451 ,  0.35943064,  0.3349835 ],\n",
              "        [ 0.1491934 ,  0.17740533,  0.03582149,  0.04652141, -0.6262656 ,\n",
              "          0.3392681 , -0.4855695 ,  0.42882   ,  0.27975413,  0.21899   ],\n",
              "        [ 0.30481955, -0.29664052,  0.32385385,  0.14705147,  0.08610243,\n",
              "          0.29879886, -0.38290516, -0.26344287,  0.20100267, -0.1886412 ],\n",
              "        [ 0.34324935,  0.2333059 , -0.3172237 ,  0.11482215, -0.35795438,\n",
              "         -0.12671217,  0.09153581,  0.5996167 , -0.52026755, -0.51290613],\n",
              "        [ 0.1342464 , -1.1003274 , -0.18501756,  0.18669276,  0.38011193,\n",
              "         -0.20516512,  0.07269353, -0.3000776 ,  0.1408022 , -0.28574347],\n",
              "        [-0.21114317,  0.04974796,  0.01244053,  0.11399218,  0.3595938 ,\n",
              "         -0.6251887 ,  0.5490864 , -0.58698803,  0.0569042 ,  0.4215587 ],\n",
              "        [ 0.01280868, -0.3888833 ,  0.35570148, -0.12203968, -0.0391015 ,\n",
              "          0.06698784,  0.00949346, -0.43704236,  0.07991346,  0.30542696],\n",
              "        [ 0.16385627, -0.13851477,  0.07934193, -0.07191519,  0.19274986,\n",
              "         -0.24671595, -0.3428594 ,  0.2855602 , -0.1992568 ,  0.32984295]],\n",
              "       dtype=float32),\n",
              " array([0., 0., 0., 0., 0., 0., 0., 0., 0., 0.], dtype=float32),\n",
              " array([[ 0.45163143,  0.25055125,  0.25498402,  0.4464226 , -0.3630992 ,\n",
              "         -0.08170502, -0.6711788 ,  0.16588707, -0.46195424,  0.33390924],\n",
              "        [-0.15320036, -0.01899691, -0.09887191,  0.23969667,  0.13732411,\n",
              "          0.12126275, -0.44379634, -0.28555074,  0.79911673,  0.40043148],\n",
              "        [ 0.26840267, -0.3067319 ,  0.12871122, -0.18217085, -0.44596174,\n",
              "          0.70541054,  0.0134958 ,  0.26180092, -0.06588724,  0.20144619],\n",
              "        [-0.34563148, -0.12154269,  0.04844966, -0.4042345 ,  0.5391877 ,\n",
              "         -0.18386061, -0.05707109, -0.31782785, -0.53525674, -0.25008893],\n",
              "        [ 0.17790937,  0.39408115,  0.1727662 , -0.67914146, -0.17861803,\n",
              "          0.12125438,  0.38258538, -0.16128479, -0.12830684,  0.30315647],\n",
              "        [ 0.00220237, -0.28679562,  0.21764566, -0.03534999,  0.120965  ,\n",
              "         -0.14477563,  0.3482868 ,  0.4680315 , -0.08632734, -0.35285708],\n",
              "        [ 0.16607183, -0.27178168, -0.4067094 ,  0.5106915 ,  0.13722867,\n",
              "         -0.17980886,  0.7533741 , -0.3505514 , -0.15519488,  0.04388804],\n",
              "        [-0.56477445,  0.00599735,  0.22161993, -0.431218  ,  0.44823477,\n",
              "         -0.2846375 ,  0.16981061, -0.03207779, -0.31323075,  0.58007526],\n",
              "        [ 0.35046366, -0.43783218,  0.30627117,  0.93811446,  0.47091055,\n",
              "          0.05581206, -0.09950392,  0.25867623,  0.2784254 , -0.425689  ],\n",
              "        [ 0.36953598, -0.13476358, -0.7663493 , -0.05059746, -0.00953699,\n",
              "          0.15653865,  0.04165801,  0.09381323,  0.7520873 , -0.3547672 ]],\n",
              "       dtype=float32),\n",
              " array([0., 0., 0., 0., 0., 0., 0., 0., 0., 0.], dtype=float32),\n",
              " array([[-0.29305735,  0.3843135 ,  0.05318205,  0.5028741 , -0.27479824,\n",
              "          0.13077119, -0.17958575,  0.07861141, -0.00420379, -0.2820004 ],\n",
              "        [-0.01705604,  0.18206514,  0.20680897,  0.42332658,  0.5975886 ,\n",
              "          0.25558004, -0.44321433, -0.0304288 , -0.3915396 ,  0.25132188],\n",
              "        [ 0.33293727,  0.21091183, -0.05723171, -0.34272748, -0.14484471,\n",
              "          0.03556176,  0.13672309,  0.18397076,  0.2780434 , -0.1626052 ],\n",
              "        [-0.01229403, -0.6069157 , -0.25326064, -0.57641   ,  0.5463168 ,\n",
              "          0.44546568,  0.26915777,  0.05465795,  0.3366762 , -0.35390157],\n",
              "        [ 0.11730576,  0.3166754 ,  0.10759852,  0.04424183, -0.09364876,\n",
              "         -0.16099396, -0.24562073, -0.16714339,  0.21199334, -0.02291126],\n",
              "        [ 0.57081383,  0.26725084, -0.2965522 ,  0.38082603, -0.2540424 ,\n",
              "         -0.17837907, -0.19558613,  0.09966825, -0.21414743, -0.25243056],\n",
              "        [-0.14002156, -0.12613603,  0.28064746, -0.23459011, -0.6781671 ,\n",
              "          0.5586623 ,  0.00995405, -0.13715988, -0.10250194, -0.11209814],\n",
              "        [ 0.01024075,  0.06947553, -0.27587408, -0.10058525,  0.10164388,\n",
              "          0.2789601 , -0.3962946 , -0.124289  , -0.7606629 ,  0.33675268],\n",
              "        [-0.1847655 ,  0.06984523, -0.5083642 ,  0.03061275, -0.5018991 ,\n",
              "         -0.08480748,  0.14077392,  0.13095921,  0.24768153,  0.03218199],\n",
              "        [ 0.2108575 , -0.48919794,  0.06645753,  0.34072483,  0.1585005 ,\n",
              "         -0.11990108,  0.02626755,  0.0678041 , -0.1804562 ,  0.42497334]],\n",
              "       dtype=float32),\n",
              " array([0., 0., 0., 0., 0., 0., 0., 0., 0., 0.], dtype=float32),\n",
              " array([[ 0.7744253 ],\n",
              "        [ 0.5728792 ],\n",
              "        [-0.32784235],\n",
              "        [ 0.04333682],\n",
              "        [ 0.5072689 ],\n",
              "        [-0.32733315],\n",
              "        [ 0.03494288],\n",
              "        [-0.389865  ],\n",
              "        [-0.27609006],\n",
              "        [-0.30568036]], dtype=float32),\n",
              " array([0.], dtype=float32)]"
            ]
          },
          "metadata": {},
          "execution_count": 14
        }
      ]
    },
    {
      "cell_type": "code",
      "source": [
        "model.compile(loss='binary_crossentropy',optimizer='adam',metrics=['accuracy'])"
      ],
      "metadata": {
        "id": "bjAyhD8mulGG"
      },
      "execution_count": null,
      "outputs": []
    },
    {
      "cell_type": "code",
      "source": [
        "history = model.fit(X,y,epochs=100,validation_split=0.2)"
      ],
      "metadata": {
        "colab": {
          "base_uri": "https://localhost:8080/",
          "height": 141
        },
        "id": "H1wa0jCaun8z",
        "outputId": "10e792d0-cbb4-43d3-d55a-a1dcff692c19"
      },
      "execution_count": null,
      "outputs": [
        {
          "output_type": "error",
          "ename": "NameError",
          "evalue": "name 'X' is not defined",
          "traceback": [
            "\u001b[0;31m---------------------------------------------------------------------------\u001b[0m",
            "\u001b[0;31mNameError\u001b[0m                                 Traceback (most recent call last)",
            "\u001b[0;32m<ipython-input-16-16ccc7238616>\u001b[0m in \u001b[0;36m<cell line: 1>\u001b[0;34m()\u001b[0m\n\u001b[0;32m----> 1\u001b[0;31m \u001b[0mhistory\u001b[0m \u001b[0;34m=\u001b[0m \u001b[0mmodel\u001b[0m\u001b[0;34m.\u001b[0m\u001b[0mfit\u001b[0m\u001b[0;34m(\u001b[0m\u001b[0mX\u001b[0m\u001b[0;34m,\u001b[0m\u001b[0my\u001b[0m\u001b[0;34m,\u001b[0m\u001b[0mepochs\u001b[0m\u001b[0;34m=\u001b[0m\u001b[0;36m100\u001b[0m\u001b[0;34m,\u001b[0m\u001b[0mvalidation_split\u001b[0m\u001b[0;34m=\u001b[0m\u001b[0;36m0.2\u001b[0m\u001b[0;34m)\u001b[0m\u001b[0;34m\u001b[0m\u001b[0;34m\u001b[0m\u001b[0m\n\u001b[0m",
            "\u001b[0;31mNameError\u001b[0m: name 'X' is not defined"
          ]
        }
      ]
    },
    {
      "cell_type": "code",
      "source": [
        "model.get_weights()"
      ],
      "metadata": {
        "colab": {
          "base_uri": "https://localhost:8080/"
        },
        "id": "8K2E1Z5Oupj_",
        "outputId": "b2f6dae5-ea9a-4cc9-8668-1d54a7b78d9d"
      },
      "execution_count": null,
      "outputs": [
        {
          "output_type": "execute_result",
          "data": {
            "text/plain": [
              "[array([[-0.7534644 , -0.40642726, -0.46373174, -0.7715832 , -0.1277438 ,\n",
              "         -0.2729551 ,  0.34282172, -0.2771892 , -0.26632193, -1.429772  ],\n",
              "        [ 1.0737787 ,  0.47488663,  0.62465155, -0.12547861,  0.20325062,\n",
              "         -0.28902182, -0.28489602, -0.7651134 ,  0.32014093,  0.38592413]],\n",
              "       dtype=float32),\n",
              " array([ 0.17320989,  0.00114872,  0.0397424 , -0.13545433,  0.00454802,\n",
              "        -0.22851905, -0.04516467,  0.15110366, -0.06830908,  0.17423655],\n",
              "       dtype=float32),\n",
              " array([[ 0.07947282,  0.26585355,  0.15415847, -0.25968108, -0.01067472,\n",
              "          0.37633535,  0.03868366, -0.38048545, -0.19025889, -0.65158546],\n",
              "        [-0.85772514, -0.04266584,  0.12410757, -0.38518146,  0.4134989 ,\n",
              "         -0.11743478, -0.66751945,  0.37822312, -0.16036926, -0.14447264],\n",
              "        [-0.14926817, -0.04317714,  0.24179652, -0.20616755,  0.4172752 ,\n",
              "         -0.737155  , -0.17425217,  0.3156445 , -0.3552739 , -0.395115  ],\n",
              "        [-0.26271275, -0.16797927,  0.30563584, -0.03270569, -0.01150104,\n",
              "         -0.24627677,  0.24142104, -0.07621646,  0.3339557 ,  0.10243275],\n",
              "        [ 0.26255026,  0.02363358,  0.3236393 , -0.43547204,  0.26811856,\n",
              "         -0.49417892, -0.0136685 ,  0.00086602, -0.24076873, -0.00815725],\n",
              "        [ 0.06651404, -0.16314201,  0.26959333,  0.3236881 ,  0.11817549,\n",
              "          0.17660452,  0.11021394,  0.47018412,  0.5029724 ,  0.54021436],\n",
              "        [ 0.01232329, -0.43329835, -0.21424858,  0.48738435, -0.38471356,\n",
              "          0.35022077, -0.33246592, -0.03527692,  0.34334227,  0.33408895],\n",
              "        [-0.17499602, -0.08846112,  0.44534263,  0.41706678, -0.25442937,\n",
              "         -0.13242589, -0.5917319 , -0.75003874,  0.0550186 , -0.08872192],\n",
              "        [ 0.4335519 ,  0.11488257,  0.29251856, -0.29791567,  0.03763288,\n",
              "         -0.11979282, -0.4849098 ,  0.18739605,  0.00637927,  0.16282775],\n",
              "        [-0.17443036,  0.08167496, -0.5419055 ,  0.12802073, -0.22356339,\n",
              "          0.38808206, -0.21330813, -0.49614394,  0.22101277, -0.00226254]],\n",
              "       dtype=float32),\n",
              " array([ 0.049227  ,  0.02721086,  0.03504166, -0.01238636, -0.01706586,\n",
              "         0.01988176,  0.00092993, -0.07296985,  0.04619956, -0.05349142],\n",
              "       dtype=float32),\n",
              " array([[ 0.29350972,  0.01495209, -0.16467233,  0.02042359, -0.14378741,\n",
              "         -0.05700863,  0.11989471, -0.05637817,  0.27254355,  0.47402745],\n",
              "        [ 0.25167063, -0.14288695,  0.17566955,  0.41847163, -0.3347687 ,\n",
              "          0.00793358,  0.48080194, -0.25084803,  0.34036502, -0.39949074],\n",
              "        [ 0.2644032 , -0.0856568 , -0.4119659 , -0.09630942, -0.17804305,\n",
              "          0.52713746,  0.3026423 , -0.40907007,  0.5909925 , -0.0976069 ],\n",
              "        [ 0.36357093, -0.00488952, -0.26088867,  0.67006505,  0.28054923,\n",
              "         -0.17542177,  0.05486431, -0.21949461,  0.16455914, -0.04049552],\n",
              "        [ 0.55641574, -0.34682623,  0.07759377, -0.08662193, -0.09695615,\n",
              "          0.11891202, -0.01521198,  0.56446314,  0.23075795,  0.23031878],\n",
              "        [-0.09142579,  0.5548033 , -0.32469928,  0.3647462 , -0.12595163,\n",
              "          0.07089631,  0.03449333, -0.14888313, -0.05808999,  0.39150393],\n",
              "        [ 0.07599428, -0.12699255,  0.13093065, -0.07967905, -0.2547059 ,\n",
              "          0.04206409,  0.12510847, -0.39710048,  0.40889964,  0.32673928],\n",
              "        [ 0.5740713 , -0.2281679 ,  0.58825105, -0.40184653, -0.00410547,\n",
              "          0.58658844,  0.05537734,  0.03298928,  0.31169656, -0.19233175],\n",
              "        [-0.12104338, -0.5014624 ,  0.3113903 , -0.18781507, -0.46274775,\n",
              "         -0.11499538, -0.02999777, -0.53375983,  0.18876345,  0.00505815],\n",
              "        [-0.19417681, -0.06788933, -0.17673816,  0.1532216 , -0.28136235,\n",
              "         -0.2114139 , -0.47005594, -0.15971005, -0.65872353, -0.00340652]],\n",
              "       dtype=float32),\n",
              " array([-0.10150597, -0.03123332, -0.0282005 ,  0.00438787, -0.0004478 ,\n",
              "        -0.01638761,  0.02175754, -0.0104647 , -0.0085741 ,  0.0146223 ],\n",
              "       dtype=float32),\n",
              " array([[-0.22318298,  0.07007452, -0.2524823 , -0.05630882, -0.28767478,\n",
              "         -0.30032828, -0.53940725,  0.39169684, -0.15365812, -0.0530921 ],\n",
              "        [ 0.4531743 , -0.08485935,  0.12253729, -0.30106953, -0.1967986 ,\n",
              "         -0.23179246,  0.03937139, -0.92975223,  0.24682377, -0.42667037],\n",
              "        [ 0.21209171, -0.67760456, -0.10822933, -0.41114506,  0.6541816 ,\n",
              "         -0.14481081, -0.03953418,  0.04622973, -0.0592063 ,  0.29646206],\n",
              "        [ 0.0608221 , -0.13862969,  0.33889246,  0.17931186, -0.05995693,\n",
              "          0.54015994,  0.3014577 ,  0.00219015, -1.0318656 , -0.20843661],\n",
              "        [ 0.37494394,  0.3653853 , -0.27225742, -0.565997  ,  0.18694456,\n",
              "         -0.10070051,  0.03893152,  0.54326385,  1.0207042 , -0.3092072 ],\n",
              "        [-0.8066734 , -0.2072293 , -0.48196635,  0.23339203,  0.5445601 ,\n",
              "         -0.1517635 , -0.67532665, -0.14281388, -0.01136848,  0.30655432],\n",
              "        [-0.5232737 , -0.71261376,  0.06331099,  0.5418455 ,  0.04043067,\n",
              "         -0.07597745,  0.19247657,  0.52028334,  0.5407295 ,  1.3793249 ],\n",
              "        [-0.4539783 , -0.09870224, -0.23679186, -0.5744874 ,  0.06544055,\n",
              "         -0.12984492,  0.08924435,  0.48100042,  0.28226385,  0.02544265],\n",
              "        [ 0.27545497, -0.5602012 ,  0.02050368, -0.43816292,  0.4175032 ,\n",
              "         -0.04267948, -0.0295357 ,  0.16153401, -0.2269098 ,  0.1951963 ],\n",
              "        [ 0.0839916 ,  0.5102925 ,  0.36176258,  0.32111955,  0.16688062,\n",
              "         -0.14484844,  0.00219644, -0.24006948, -0.2244049 , -0.06599794]],\n",
              "       dtype=float32),\n",
              " array([-0.0068772 ,  0.0014922 ,  0.01118906,  0.0100634 , -0.04027907,\n",
              "         0.04657998,  0.03504817, -0.00922029, -0.00490694,  0.01948539],\n",
              "       dtype=float32),\n",
              " array([[ 0.29533505],\n",
              "        [ 0.40718013],\n",
              "        [ 0.52056015],\n",
              "        [ 0.09189746],\n",
              "        [-0.37449685],\n",
              "        [ 0.3979505 ],\n",
              "        [ 0.5800399 ],\n",
              "        [-0.46293905],\n",
              "        [-0.34727475],\n",
              "        [-0.62581825]], dtype=float32),\n",
              " array([0.03037571], dtype=float32)]"
            ]
          },
          "metadata": {},
          "execution_count": 52
        }
      ]
    },
    {
      "cell_type": "code",
      "source": [
        "from mlxtend.plotting import plot_decision_regions\n",
        "plot_decision_regions(X,y.astype('int'), clf=model, legend=2)"
      ],
      "metadata": {
        "colab": {
          "base_uri": "https://localhost:8080/",
          "height": 338
        },
        "id": "h2jKnSGeuuLY",
        "outputId": "a959a920-8398-4e16-b370-fabf274eff61"
      },
      "execution_count": null,
      "outputs": [
        {
          "output_type": "stream",
          "name": "stderr",
          "text": [
            "/usr/local/lib/python3.7/dist-packages/mlxtend/plotting/decision_regions.py:244: MatplotlibDeprecationWarning: Passing unsupported keyword arguments to axis() will raise a TypeError in 3.3.\n",
            "  ax.axis(xmin=xx.min(), xmax=xx.max(), y_min=yy.min(), y_max=yy.max())\n"
          ]
        },
        {
          "output_type": "execute_result",
          "data": {
            "text/plain": [
              "<matplotlib.axes._subplots.AxesSubplot at 0x7fe801e4ef50>"
            ]
          },
          "metadata": {},
          "execution_count": 64
        },
        {
          "output_type": "display_data",
          "data": {
            "text/plain": [
              "<Figure size 432x288 with 1 Axes>"
            ],
            "image/png": "[encoded data removed]"
          },
          "metadata": {
            "needs_background": "light"
          }
        }
      ]
    },
    {
      "cell_type": "code",
      "source": [
        "model = Sequential()\n",
        "\n",
        "model.add(Dense(10,activation='relu',input_dim=2,kernel_initializer='he_normal'))\n",
        "model.add(Dense(10,activation='relu',kernel_initializer='he_normal'))\n",
        "model.add(Dense(10,activation='relu',kernel_initializer='he_normal'))\n",
        "model.add(Dense(10,activation='relu',kernel_initializer='he_normal'))\n",
        "model.add(Dense(1,activation='sigmoid'))\n",
        "\n",
        "model.summary()"
      ],
      "metadata": {
        "id": "eMDfYmYPLCxd"
      },
      "execution_count": null,
      "outputs": []
    },
    {
      "cell_type": "code",
      "source": [
        "(np.random.randn(10,10)*0.01).min()"
      ],
      "metadata": {
        "colab": {
          "base_uri": "https://localhost:8080/"
        },
        "id": "6cQtO9mpuxLI",
        "outputId": "141c2890-cc9b-44ee-bd6e-8a3b0c84004a"
      },
      "execution_count": null,
      "outputs": [
        {
          "output_type": "execute_result",
          "data": {
            "text/plain": [
              "-0.01538420487066039"
            ]
          },
          "metadata": {},
          "execution_count": 58
        }
      ]
    },
    {
      "cell_type": "code",
      "source": [
        "(np.random.randn(10,10)*0.01).max()"
      ],
      "metadata": {
        "colab": {
          "base_uri": "https://localhost:8080/"
        },
        "id": "diiaUiL92T7H",
        "outputId": "82f87541-8dcc-4cb1-a3ff-cf31048421f3"
      },
      "execution_count": null,
      "outputs": [
        {
          "output_type": "execute_result",
          "data": {
            "text/plain": [
              "0.02825126600648443"
            ]
          },
          "metadata": {},
          "execution_count": 59
        }
      ]
    },
    {
      "cell_type": "code",
      "source": [],
      "metadata": {
        "id": "b2DJRNfI3BOE"
      },
      "execution_count": null,
      "outputs": []
    }
  ]
}